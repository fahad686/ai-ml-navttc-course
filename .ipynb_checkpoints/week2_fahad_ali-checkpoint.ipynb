{
 "cells": [
  {
   "cell_type": "code",
   "execution_count": 2,
   "id": "51dc247e-8de8-4fd4-abe7-a60ead28605d",
   "metadata": {},
   "outputs": [
    {
     "name": "stdout",
     "output_type": "stream",
     "text": [
      "Welcome to Python Programming!\n"
     ]
    }
   ],
   "source": [
    "print(\"Welcome to Python Programming!\")\n"
   ]
  },
  {
   "cell_type": "code",
   "execution_count": 11,
   "id": "5783fe88-dcbc-40a5-bd2a-bd5c29f09537",
   "metadata": {},
   "outputs": [
    {
     "name": "stdin",
     "output_type": "stream",
     "text": [
      "Enter first number: 5\n",
      "Enter second number: 10\n"
     ]
    },
    {
     "name": "stdout",
     "output_type": "stream",
     "text": [
      "After swapping:\n",
      "First number a: 10\n",
      "Second number b: 5\n"
     ]
    }
   ],
   "source": [
    "#swapping \n",
    "\n",
    "a=input('Enter first number:')\n",
    "b=input('Enter second number:')\n",
    "a,b=b,a\n",
    "\n",
    "\n",
    "print('After swapping:')\n",
    "print('First number a:',a)\n",
    "print('Second number b:',b)\n"
   ]
  },
  {
   "cell_type": "code",
   "execution_count": 20,
   "id": "b4d7fbfb-0060-4fc3-9652-e24e96f850ec",
   "metadata": {},
   "outputs": [
    {
     "name": "stdin",
     "output_type": "stream",
     "text": [
      "Enter temperature in Celsius: 25\n"
     ]
    },
    {
     "name": "stdout",
     "output_type": "stream",
     "text": [
      "Temperature in Fahrenheit:  77.0\n"
     ]
    }
   ],
   "source": [
    "# Q3. Convert Temperature from Celsius to Fahrenheit\n",
    "# Write a Python program that converts a temperature from Celsius to Fahrenheit using the formula:\n",
    "\n",
    "# F = 9/5 * Celsius + 32\n",
    "\n",
    "Celsius=input(\"Enter temperature in Celsius:\")\n",
    "celsius=float(Celsius)\n",
    "f=(9/5)*celsius+32\n",
    "print(\"Temperature in Fahrenheit: \",f)\n"
   ]
  },
  {
   "cell_type": "code",
   "execution_count": 1,
   "id": "93cd347e-04a0-4d19-ba8f-9ab54e858991",
   "metadata": {},
   "outputs": [
    {
     "name": "stdin",
     "output_type": "stream",
     "text": [
      "Enter a three-digit number: 3\n"
     ]
    },
    {
     "name": "stdout",
     "output_type": "stream",
     "text": [
      "Sum of digits: 3\n"
     ]
    }
   ],
   "source": [
    "# Q4. Calculate the Sum of Digits of a Three-Digit Number\n",
    "# Write a Python program that takes a three-digit number as input and calculates the sum of its digits.\n",
    "first=input(\"Enter a three-digit number:\")\n",
    "number=int(first)\n",
    "firstDigit=number//100\n",
    "secDigit=(number%100)//10\n",
    "third=number%10\n",
    "sum=firstDigit+secDigit+third\n",
    "print(\"Sum of digits:\",sum)"
   ]
  },
  {
   "cell_type": "code",
   "execution_count": 2,
   "id": "b7f820d1-3f62-460e-a10b-54b7548e7c71",
   "metadata": {},
   "outputs": [
    {
     "name": "stdout",
     "output_type": "stream",
     "text": [
      "Hi Irfan welcome\n"
     ]
    }
   ],
   "source": [
    "print('Hi Irfan welcome')"
   ]
  },
  {
   "cell_type": "code",
   "execution_count": 4,
   "id": "ad92f8be-17bd-4fd2-b251-96c8678ec4e9",
   "metadata": {},
   "outputs": [
    {
     "name": "stdin",
     "output_type": "stream",
     "text": [
      "Enter a number:  4\n"
     ]
    },
    {
     "name": "stdout",
     "output_type": "stream",
     "text": [
      "4 is an even number.\n"
     ]
    }
   ],
   "source": [
    "# Q5: Check even or odd\n",
    "num = int(input(\"Enter a number: \"))\n",
    "\n",
    "if num % 2 == 0:\n",
    "    print(f\"{num} is an even number.\")\n",
    "else:\n",
    "    print(f\"{num} is an odd number.\")"
   ]
  },
  {
   "cell_type": "code",
   "execution_count": 6,
   "id": "33abfbe1-9996-452c-bf69-915e3adb8f57",
   "metadata": {},
   "outputs": [
    {
     "name": "stdin",
     "output_type": "stream",
     "text": [
      "Enter first number:  0\n",
      "Enter second number:  -111\n",
      "Enter third number:  1\n"
     ]
    },
    {
     "name": "stdout",
     "output_type": "stream",
     "text": [
      "Largest number: 1\n"
     ]
    }
   ],
   "source": [
    "# Q6: Find the largest of three numbers\n",
    "num1 = int(input(\"Enter first number: \"))\n",
    "num2 = int(input(\"Enter second number: \"))\n",
    "num3 = int(input(\"Enter third number: \"))\n",
    "\n",
    "# identify largest\n",
    "largest = max(num1, num2, num3)\n",
    "\n",
    "\n",
    "print(\"Largest number:\", largest)"
   ]
  },
  {
   "cell_type": "code",
   "execution_count": null,
   "id": "badc7175-d256-48ae-b82e-9e9166851025",
   "metadata": {},
   "outputs": [],
   "source": []
  }
 ],
 "metadata": {
  "kernelspec": {
   "display_name": "Python [conda env:base] *",
   "language": "python",
   "name": "conda-base-py"
  },
  "language_info": {
   "codemirror_mode": {
    "name": "ipython",
    "version": 3
   },
   "file_extension": ".py",
   "mimetype": "text/x-python",
   "name": "python",
   "nbconvert_exporter": "python",
   "pygments_lexer": "ipython3",
   "version": "3.13.5"
  }
 },
 "nbformat": 4,
 "nbformat_minor": 5
}
