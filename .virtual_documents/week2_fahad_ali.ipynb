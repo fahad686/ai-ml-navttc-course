print("Welcome to Python Programming!")



#swapping 

a=input('Enter first number:')
b=input('Enter second number:')
a,b=b,a


print('After swapping:')
print('First number a:',a)
print('Second number b:',b)



# Q3. Convert Temperature from Celsius to Fahrenheit
# Write a Python program that converts a temperature from Celsius to Fahrenheit using the formula:

# F = 9/5 * Celsius + 32

Celsius=input("Enter temperature in Celsius:")
celsius=float(Celsius)
f=(9/5)*celsius+32
print("Temperature in Fahrenheit: ",f)



# Q4. Calculate the Sum of Digits of a Three-Digit Number
# Write a Python program that takes a three-digit number as input and calculates the sum of its digits.
first=input("Enter a three-digit number:")
number=int(first)
firstDigit=number//100
secDigit=(number%100)//10
third=number%10
sum=firstDigit+secDigit+third
print("Sum of digits:",sum)


print('Hi Irfan welcome')


# Q5: Check even or odd
num = int(input("Enter a number: "))

if num % 2 == 0:
    print(f"{num} is an even number.")
else:
    print(f"{num} is an odd number.")


# Q6: Find the largest of three numbers
num1 = int(input("Enter first number: "))
num2 = int(input("Enter second number: "))
num3 = int(input("Enter third number: "))

# identify largest
largest = max(num1, num2, num3)


print("Largest number:", largest)



