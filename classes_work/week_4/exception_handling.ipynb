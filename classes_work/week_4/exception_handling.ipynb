{
 "cells": [
  {
   "cell_type": "code",
   "execution_count": 4,
   "id": "5773dd99-13c1-41de-bf2f-3bca8d03a113",
   "metadata": {},
   "outputs": [
    {
     "ename": "SyntaxError",
     "evalue": "expected ':' (942823016.py, line 7)",
     "output_type": "error",
     "traceback": [
      "\u001b[0;36m  Cell \u001b[0;32mIn[4], line 7\u001b[0;36m\u001b[0m\n\u001b[0;31m    if x<5\u001b[0m\n\u001b[0m          ^\u001b[0m\n\u001b[0;31mSyntaxError\u001b[0m\u001b[0;31m:\u001b[0m expected ':'\n"
     ]
    }
   ],
   "source": [
    "#Error handling\n",
    "# 1)Syntax Errors: These errors occur when the Python interpreter encounters code that does not conform to the\n",
    "#language's grammatical rules. They are detected during the parsing phase, before the program even begins \n",
    "#execution. If a syntax error is present, the program will not run.\n",
    "\n",
    "x=1\n",
    "if x<5\n",
    "    print('Run time excepiton ')"
   ]
  },
  {
   "cell_type": "code",
   "execution_count": 5,
   "id": "69324e25-a98e-49fa-9510-aa8dadae0cd3",
   "metadata": {},
   "outputs": [
    {
     "ename": "NameError",
     "evalue": "name 'w' is not defined",
     "output_type": "error",
     "traceback": [
      "\u001b[0;31m---------------------------------------------------------------------------\u001b[0m",
      "\u001b[0;31mNameError\u001b[0m                                 Traceback (most recent call last)",
      "Cell \u001b[0;32mIn[5], line 4\u001b[0m\n\u001b[1;32m      1\u001b[0m \u001b[38;5;66;03m# 2)Exceptions (Runtime Errors): These errors occur during the execution of a program, \u001b[39;00m\n\u001b[1;32m      2\u001b[0m \u001b[38;5;66;03m# even if the code is syntactically correct.\u001b[39;00m\n\u001b[0;32m----> 4\u001b[0m \u001b[38;5;28mprint\u001b[39m(\u001b[38;5;124mf\u001b[39m\u001b[38;5;124m'\u001b[39m\u001b[38;5;124mRun time error\u001b[39m\u001b[38;5;132;01m{\u001b[39;00mw\u001b[38;5;132;01m}\u001b[39;00m\u001b[38;5;124m'\u001b[39m)\n",
      "\u001b[0;31mNameError\u001b[0m: name 'w' is not defined"
     ]
    }
   ],
   "source": [
    "# 2)Exceptions (Runtime Errors): These errors occur during the execution of a program, \n",
    "# even if the code is syntactically correct.\n",
    "\n",
    "print(f'Run time error{w}')\n",
    "\n",
    "#output NameError: name 'w' is not defined"
   ]
  },
  {
   "cell_type": "code",
   "execution_count": null,
   "id": "1f59224f-bf05-4f5b-90c4-7c0a8da2c7df",
   "metadata": {},
   "outputs": [],
   "source": []
  }
 ],
 "metadata": {
  "kernelspec": {
   "display_name": "Python [conda env:base] *",
   "language": "python",
   "name": "conda-base-py"
  },
  "language_info": {
   "codemirror_mode": {
    "name": "ipython",
    "version": 3
   },
   "file_extension": ".py",
   "mimetype": "text/x-python",
   "name": "python",
   "nbconvert_exporter": "python",
   "pygments_lexer": "ipython3",
   "version": "3.13.5"
  }
 },
 "nbformat": 4,
 "nbformat_minor": 5
}
