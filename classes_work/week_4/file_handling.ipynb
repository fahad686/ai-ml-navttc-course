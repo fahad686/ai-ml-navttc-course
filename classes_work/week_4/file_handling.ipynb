{
 "cells": [
  {
   "cell_type": "code",
   "execution_count": 14,
   "id": "7331e1bf-f33c-4d64-a950-b37068d66d06",
   "metadata": {},
   "outputs": [
    {
     "name": "stdout",
     "output_type": "stream",
     "text": [
      "# pip  package  manager of python Streamlit(used for web like html, css,js)\n",
      "\n",
      "#chainlit library used for creating chat bots\n",
      "\n",
      "#exeption in python \n",
      "\n",
      "\n",
      "\n",
      "\n",
      "\n",
      "\n",
      "\n",
      "-------- -------------------- File handling ----------------- -----------------\n",
      "\n",
      "File handling in Python involves interacting with files on a computer's file system. This includes operations such as creating, reading, writing, appending, and deleting files. The core function for file handling is open(), which returns a file object.\n",
      "\n",
      "\n"
     ]
    }
   ],
   "source": [
    "#File handling\n",
    "\n",
    "# Open a file and assign it to a variable\n",
    "file = open(\"requirment.txt\", \"r\")\n",
    "\n",
    "# Read the contents\n",
    "print(file.read())\n",
    "\n",
    "\n",
    "# Close the file explicitly\n",
    "file.close()\n"
   ]
  },
  {
   "cell_type": "code",
   "execution_count": 15,
   "id": "5d009b19-5088-4556-bc1c-49e3c0da4fee",
   "metadata": {},
   "outputs": [
    {
     "ename": "ValueError",
     "evalue": "I/O operation on closed file.",
     "output_type": "error",
     "traceback": [
      "\u001b[0;31m---------------------------------------------------------------------------\u001b[0m",
      "\u001b[0;31mValueError\u001b[0m                                Traceback (most recent call last)",
      "Cell \u001b[0;32mIn[15], line 1\u001b[0m\n\u001b[0;32m----> 1\u001b[0m \u001b[38;5;28mprint\u001b[39m(file\u001b[38;5;241m.\u001b[39mread())\n",
      "\u001b[0;31mValueError\u001b[0m: I/O operation on closed file."
     ]
    }
   ],
   "source": [
    "#give error after clossing accessing file \n",
    "print(file.read())\n"
   ]
  },
  {
   "cell_type": "code",
   "execution_count": 20,
   "id": "213f7609-bae8-410c-959b-c1638f1e929f",
   "metadata": {},
   "outputs": [
    {
     "name": "stdout",
     "output_type": "stream",
     "text": [
      "# pip  package  manager of python Streamlit(used for web like html, css,js)\n",
      "\n",
      "#chainlit library used for creating chat bots\n",
      "\n",
      "#exeption in python \n",
      "\n",
      "\n",
      "\n",
      "\n",
      "\n",
      "\n",
      "\n",
      "-------- -------------------- File handling ----------------- -----------------\n",
      "\n",
      "File handling in Python involves interacting with files on a computer's file system. This includes operations such as creating, reading, writing, appending, and deleting files. The core function for file handling is open(), which returns a file object.\n",
      "\n",
      "\n"
     ]
    }
   ],
   "source": [
    "# file handling with best practice to avoid closing file issue \n",
    "\n",
    "with open(\"requirment.txt\", \"r\") as doc:\n",
    "    print(doc.read())"
   ]
  },
  {
   "cell_type": "code",
   "execution_count": 22,
   "id": "9a1fc1ef-c620-47ed-a236-81817d1720c9",
   "metadata": {},
   "outputs": [
    {
     "ename": "ValueError",
     "evalue": "I/O operation on closed file.",
     "output_type": "error",
     "traceback": [
      "\u001b[0;31m---------------------------------------------------------------------------\u001b[0m",
      "\u001b[0;31mValueError\u001b[0m                                Traceback (most recent call last)",
      "Cell \u001b[0;32mIn[22], line 1\u001b[0m\n\u001b[0;32m----> 1\u001b[0m \u001b[38;5;28mprint\u001b[39m(doc\u001b[38;5;241m.\u001b[39mread())\n",
      "\u001b[0;31mValueError\u001b[0m: I/O operation on closed file."
     ]
    }
   ],
   "source": [
    "print(doc.read())\n",
    "#ValueError                                Traceback (most recent call last)\n",
    "# Cell In[22], line 1\n",
    "# ----> 1 print(doc.read())\n",
    "\n",
    "# ValueError: I/O operation on closed file.\n"
   ]
  },
  {
   "cell_type": "code",
   "execution_count": 27,
   "id": "9a7acc8f-d97a-4b49-80c6-b734d557eca9",
   "metadata": {},
   "outputs": [
    {
     "name": "stdout",
     "output_type": "stream",
     "text": [
      "\n",
      "Pakistan Zinda bad\n"
     ]
    }
   ],
   "source": [
    "#write mode on file \n",
    "with open('requirment.txt','w') as docs:\n",
    "    docs.write('\\nPakistan Zinda bad')\n",
    "with open('requirment.txt','r')as file:print(file.read())\n"
   ]
  },
  {
   "cell_type": "code",
   "execution_count": 39,
   "id": "25100659-e907-4d8a-a740-169614cc3ad7",
   "metadata": {},
   "outputs": [
    {
     "name": "stdout",
     "output_type": "stream",
     "text": [
      "O L D  VIBESO L D  VIBESO L D  VIBESO L D  VIBESO L D  VIBESO L D  VIBESO L D  VIBESO L D  VIBES\n",
      "O L D  VIBES\n",
      "O L D  VIBES\n",
      "O L D  VIBES\n",
      "\n"
     ]
    }
   ],
   "source": [
    "#append text\n",
    "with open('requirement.txt','a') as fil:\n",
    "    fil.write('O L D  VIBES\\n')\n",
    "with open(\"requirement.txt\",'r') as docs:\n",
    "    print(docs.read())"
   ]
  },
  {
   "cell_type": "code",
   "execution_count": null,
   "id": "9180a50e-1314-4027-95db-1fb33b229d04",
   "metadata": {},
   "outputs": [],
   "source": []
  },
  {
   "cell_type": "code",
   "execution_count": null,
   "id": "8c02126e-184f-44e3-b4c9-c4e8d12f9ca9",
   "metadata": {},
   "outputs": [],
   "source": []
  }
 ],
 "metadata": {
  "kernelspec": {
   "display_name": "Python [conda env:base] *",
   "language": "python",
   "name": "conda-base-py"
  },
  "language_info": {
   "codemirror_mode": {
    "name": "ipython",
    "version": 3
   },
   "file_extension": ".py",
   "mimetype": "text/x-python",
   "name": "python",
   "nbconvert_exporter": "python",
   "pygments_lexer": "ipython3",
   "version": "3.13.5"
  }
 },
 "nbformat": 4,
 "nbformat_minor": 5
}
