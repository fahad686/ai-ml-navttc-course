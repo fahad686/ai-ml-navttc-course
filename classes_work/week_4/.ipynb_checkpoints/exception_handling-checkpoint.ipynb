{
 "cells": [
  {
   "cell_type": "code",
   "execution_count": 1,
   "id": "5773dd99-13c1-41de-bf2f-3bca8d03a113",
   "metadata": {},
   "outputs": [],
   "source": [
    "#Error handling\n",
    "# 1)Exceptions (Runtime Errors): \n",
    "\n",
    "x=1\n",
    "if x>5:\n",
    "    print('Run time excepiton ')"
   ]
  },
  {
   "cell_type": "code",
   "execution_count": null,
   "id": "69324e25-a98e-49fa-9510-aa8dadae0cd3",
   "metadata": {},
   "outputs": [],
   "source": []
  }
 ],
 "metadata": {
  "kernelspec": {
   "display_name": "Python [conda env:base] *",
   "language": "python",
   "name": "conda-base-py"
  },
  "language_info": {
   "codemirror_mode": {
    "name": "ipython",
    "version": 3
   },
   "file_extension": ".py",
   "mimetype": "text/x-python",
   "name": "python",
   "nbconvert_exporter": "python",
   "pygments_lexer": "ipython3",
   "version": "3.13.5"
  }
 },
 "nbformat": 4,
 "nbformat_minor": 5
}
