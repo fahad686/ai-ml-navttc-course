{
 "cells": [
  {
   "cell_type": "code",
   "execution_count": 6,
   "id": "30c63d18-9804-4c3b-924f-df4141322ff7",
   "metadata": {},
   "outputs": [
    {
     "name": "stdout",
     "output_type": "stream",
     "text": [
      "{'mango', 'graps', 'apple', 'banana'}\n",
      "{'graps', 'cherry', 'apple', 'banana', 'mango'}\n",
      "{'cherry', 'apple', 'banana', 'mango'}\n"
     ]
    }
   ],
   "source": [
    "# Set  when want to store arbitrary values (Random data store)/ store collection of data //immuteable\n",
    "\n",
    "fruits={'apple','banana','graps','mango'}\n",
    "print(fruits)\n",
    "\n",
    "#some method add\n",
    "fruits.add('cherry')\n",
    "fruits.add('mango')\n",
    "\n",
    "print(fruits)\n",
    "\n",
    "#drop element\n",
    "fruits.pop()\n",
    "print(fruits)\n",
    "\n"
   ]
  },
  {
   "cell_type": "code",
   "execution_count": null,
   "id": "a9ce5c20-53a1-493d-bea3-6c41a47ef8bd",
   "metadata": {},
   "outputs": [],
   "source": [
    "\n"
   ]
  }
 ],
 "metadata": {
  "kernelspec": {
   "display_name": "Python [conda env:base] *",
   "language": "python",
   "name": "conda-base-py"
  },
  "language_info": {
   "codemirror_mode": {
    "name": "ipython",
    "version": 3
   },
   "file_extension": ".py",
   "mimetype": "text/x-python",
   "name": "python",
   "nbconvert_exporter": "python",
   "pygments_lexer": "ipython3",
   "version": "3.13.5"
  }
 },
 "nbformat": 4,
 "nbformat_minor": 5
}
