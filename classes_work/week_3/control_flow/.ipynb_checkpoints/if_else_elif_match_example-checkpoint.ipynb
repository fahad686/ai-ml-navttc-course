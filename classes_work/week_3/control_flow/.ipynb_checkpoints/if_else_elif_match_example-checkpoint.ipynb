{
 "cells": [
  {
   "cell_type": "code",
   "execution_count": 5,
   "id": "819309f2-bf6c-4756-a45f-e2421845f500",
   "metadata": {},
   "outputs": [
    {
     "name": "stdout",
     "output_type": "stream",
     "text": [
      "Very hot Day\n",
      "Sunny day\n"
     ]
    }
   ],
   "source": [
    "# if condition\n",
    "temp=20\n",
    "if temp >= 20:\n",
    "    print(\"Very hot Day\")\n",
    "\n",
    "#if else\n",
    "\n",
    "if temp <=28:\n",
    "    print(\"Sunny day\")\n",
    "else:\n",
    "    print(\"Hot day\")\n",
    "\n",
    "   \n"
   ]
  },
  {
   "cell_type": "code",
   "execution_count": 22,
   "id": "5f3fc938-a7b7-4056-86c5-6cc703368e86",
   "metadata": {},
   "outputs": [
    {
     "name": "stdin",
     "output_type": "stream",
     "text": [
      "what tempertaure there? 23\n"
     ]
    },
    {
     "name": "stdout",
     "output_type": "stream",
     "text": [
      "Normal day\n"
     ]
    }
   ],
   "source": [
    "## elif means else if\n",
    "\n",
    "temperature = input(\"what tempertaure there?\")\n",
    "temper=int(temperature)\n",
    "\n",
    "if temper <=22:\n",
    "    print(\"Cold day\")\n",
    "elif temper>=20 and temper<=30:\n",
    "    print(\"Normal day\")\n",
    "else:\n",
    "    print(\"very hot day\")\n"
   ]
  },
  {
   "cell_type": "code",
   "execution_count": 49,
   "id": "39e72556-808d-47df-ac7d-78d8a1bc15b3",
   "metadata": {},
   "outputs": [
    {
     "name": "stdin",
     "output_type": "stream",
     "text": [
      "Enter charcter:  L\n"
     ]
    },
    {
     "name": "stdout",
     "output_type": "stream",
     "text": [
      "l\n"
     ]
    }
   ],
   "source": [
    "#match ( we are using match in python with replace of Switch) \n",
    "# checking eligibilty critria of student ??We use Python's match statement instead of if-elif-else for structural pattern matching, which makes code more readable and concise when dealing with complex data structures.\n",
    "\n",
    "# While if-elif checks a series of true/false conditions, match checks if a variable conforms to a specific pattern or structure and can extract data from it at the same time.\n",
    "\n",
    "char=input('Enter charcter: ')\n",
    "char=char.lower()\n",
    "print(char)\n",
    "\n",
    "# match \n",
    "\n",
    "# d\n",
    "\n",
    "\n",
    "\n",
    "status_code = 404\n",
    "\n",
    "match status_code:\n",
    "    case 200:\n",
    "        print(\"OK\")\n",
    "    case 404:\n",
    "        print(\"Not Found\")\n",
    "    case 500:\n",
    "        print(\"Server Error\")\n",
    "    case _:  # Wildcard (neeche dekhen)\n",
    "        print(\"Unknown status\")\n",
    "\n",
    "# Output: Not Found\n",
    "\n",
    "\n"
   ]
  },
  {
   "cell_type": "code",
   "execution_count": 27,
   "id": "dded5d44-4fdf-4bcc-b8da-4171cb5ab747",
   "metadata": {},
   "outputs": [
    {
     "name": "stdin",
     "output_type": "stream",
     "text": [
      "Enter desired fruit: yu\n"
     ]
    },
    {
     "name": "stdout",
     "output_type": "stream",
     "text": [
      "Not Availble yu in bucket\n"
     ]
    }
   ],
   "source": [
    "#list important func with if else using  in keyword\n",
    "fruits=['apple','banana','graps']\n",
    "fruit=input(\"Enter desired fruit:\")\n",
    "\n",
    "if fruit in fruits:\n",
    "    print(f\"yes we have in bucket {fruit}\")\n",
    "else:\n",
    "    print(f'Not Availble {fruit} in bucket')\n",
    "\n",
    "\n",
    "\n",
    "    "
   ]
  },
  {
   "cell_type": "code",
   "execution_count": 46,
   "id": "f3e109f9-4c93-4c76-97db-dd23428c4767",
   "metadata": {},
   "outputs": [
    {
     "name": "stdin",
     "output_type": "stream",
     "text": [
      "Enter search field? hha\n"
     ]
    },
    {
     "name": "stdout",
     "output_type": "stream",
     "text": [
      "hha\n",
      "Fahad is not a hha Developer....\n"
     ]
    }
   ],
   "source": [
    "# \n",
    "\n",
    "\n",
    "text='I am Fahad Ali, a flutter mobile app developer'\n",
    "desired_field=input(\"Enter search field?\")\n",
    "desired_field_dev=desired_field.lower()\n",
    "desired_field_dev_withUpper=desired_field.upper()\n",
    "print(desired_field)\n",
    "\n",
    "if desired_field_dev in text:\n",
    "    print(f'Yes Fahad is an {desired_field_dev}  Developer .... ')\n",
    "\n",
    "else:\n",
    "    print(f'Fahad is not a {desired_field_dev} Developer....')\n"
   ]
  },
  {
   "cell_type": "code",
   "execution_count": null,
   "id": "e7ec320a-b388-4030-b3fd-521155951827",
   "metadata": {},
   "outputs": [],
   "source": []
  }
 ],
 "metadata": {
  "kernelspec": {
   "display_name": "Python [conda env:base] *",
   "language": "python",
   "name": "conda-base-py"
  },
  "language_info": {
   "codemirror_mode": {
    "name": "ipython",
    "version": 3
   },
   "file_extension": ".py",
   "mimetype": "text/x-python",
   "name": "python",
   "nbconvert_exporter": "python",
   "pygments_lexer": "ipython3",
   "version": "3.13.5"
  }
 },
 "nbformat": 4,
 "nbformat_minor": 5
}
