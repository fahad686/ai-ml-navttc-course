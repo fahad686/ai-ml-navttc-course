{
 "cells": [
  {
   "cell_type": "code",
   "execution_count": 1,
   "id": "2800387b-007f-4b10-8586-d9dc3281911e",
   "metadata": {},
   "outputs": [],
   "source": [
    "#user define func\n",
    "def func_name():\n",
    "    print('User-define function')\n",
    "    print('Congratulation')\n",
    "\n",
    "    "
   ]
  },
  {
   "cell_type": "code",
   "execution_count": 2,
   "id": "83f93ba3-6f77-4ffe-9e97-bfcbb84ee3cd",
   "metadata": {},
   "outputs": [
    {
     "name": "stdout",
     "output_type": "stream",
     "text": [
      "User-define function\n",
      "Congratulation\n"
     ]
    }
   ],
   "source": [
    "func_name() ## calling function"
   ]
  },
  {
   "cell_type": "code",
   "execution_count": 1,
   "id": "f04e678a-f7f7-4521-a87c-f4d89be23444",
   "metadata": {},
   "outputs": [],
   "source": [
    "# paramaterized func\n",
    "def hello(name,age): ## take arguments\n",
    "    print(f'Your name is: {name}')\n",
    "    print(f'you are  {age} yaers old.')\n",
    "    \n",
    "\n"
   ]
  },
  {
   "cell_type": "code",
   "execution_count": 2,
   "id": "d9a66b00-5470-4757-a89a-3826c847ba64",
   "metadata": {},
   "outputs": [
    {
     "name": "stdout",
     "output_type": "stream",
     "text": [
      "Your name is: fahad\n",
      "you are  27 yaers old.\n"
     ]
    }
   ],
   "source": [
    "hello('fahad',27) ## give paramatrized"
   ]
  },
  {
   "cell_type": "code",
   "execution_count": 6,
   "id": "05a8b06e-0944-4eed-b9ab-5939ae4b6b5b",
   "metadata": {},
   "outputs": [],
   "source": [
    "# Retun type function\n",
    "def call_me(name):\n",
    "    return f'How are you {name}'"
   ]
  },
  {
   "cell_type": "code",
   "execution_count": 7,
   "id": "081d5a99-b348-4e5c-b77d-8e74fac6ac53",
   "metadata": {},
   "outputs": [],
   "source": [
    "greet=call_me('Fahad ')"
   ]
  },
  {
   "cell_type": "code",
   "execution_count": 12,
   "id": "3c76621a-2ff8-4fb0-95d8-4baa62aaa7b0",
   "metadata": {},
   "outputs": [
    {
     "name": "stdout",
     "output_type": "stream",
     "text": [
      "How are you Fahad \n",
      "0- How are you Fahad \n",
      "1- How are you Fahad \n",
      "2- How are you Fahad \n",
      "3- How are you Fahad \n",
      "4- How are you Fahad \n",
      "5- How are you Fahad \n",
      "6- How are you Fahad \n",
      "7- How are you Fahad \n",
      "8- How are you Fahad \n",
      "9- How are you Fahad \n"
     ]
    }
   ],
   "source": [
    "print(greet)\n",
    "for i in range(10):\n",
    "    print(f'{i}- {greet}')\n",
    "    i=i+1"
   ]
  },
  {
   "cell_type": "code",
   "execution_count": 13,
   "id": "e98275bf-b960-4743-96fb-878656bd6ff7",
   "metadata": {},
   "outputs": [],
   "source": [
    "\n",
    "# stricket type reuired in arguments\n",
    "\n",
    "def greething(name:str,age:int):\n",
    "    print(f'Hey {name}, you are {age} old')"
   ]
  },
  {
   "cell_type": "code",
   "execution_count": 16,
   "id": "f5b8b23f-b14c-4117-b377-c00ad3a928bf",
   "metadata": {},
   "outputs": [
    {
     "name": "stdout",
     "output_type": "stream",
     "text": [
      "Hey fahad, you are 34.5 old\n"
     ]
    }
   ],
   "source": [
    "greething('fahad',34.5)"
   ]
  },
  {
   "cell_type": "code",
   "execution_count": 5,
   "id": "2c28184f-3acb-443e-984e-dd8a7934c5a3",
   "metadata": {},
   "outputs": [],
   "source": [
    "# isinstance use to check condition \n",
    "def create_account(username, age, balance):\n",
    "    if not isinstance(username, str):\n",
    "        raise TypeError(\"Username must be a string\")\n",
    "    if not isinstance(age, int):\n",
    "        raise TypeError(\"Age must be an integer\")\n",
    "    if not isinstance(balance, float):\n",
    "        raise TypeError(\"Balance must be a float\")\n",
    "\n",
    "    print(f\"Account created for {username} with balance {balance}\")\n",
    "\n",
    "\n",
    "# ❌ Wrong - This will raise an error\n"
   ]
  },
  {
   "cell_type": "code",
   "execution_count": 6,
   "id": "3b84780c-3881-4e58-a4cf-17a4bbc1a46f",
   "metadata": {},
   "outputs": [
    {
     "name": "stdout",
     "output_type": "stream",
     "text": [
      "Account created for Fahad with balance 1000.5\n"
     ]
    }
   ],
   "source": [
    "\n",
    "# ✅ Correct\n",
    "create_account(\"Fahad\", 25, 1000.50)\n"
   ]
  },
  {
   "cell_type": "code",
   "execution_count": 7,
   "id": "9721b786-0e33-442b-91db-94fc45bca686",
   "metadata": {},
   "outputs": [
    {
     "ename": "TypeError",
     "evalue": "Age must be an integer",
     "output_type": "error",
     "traceback": [
      "\u001b[0;31m---------------------------------------------------------------------------\u001b[0m",
      "\u001b[0;31mTypeError\u001b[0m                                 Traceback (most recent call last)",
      "Cell \u001b[0;32mIn[7], line 1\u001b[0m\n\u001b[0;32m----> 1\u001b[0m create_account(\u001b[38;5;124m\"\u001b[39m\u001b[38;5;124mFahad\u001b[39m\u001b[38;5;124m\"\u001b[39m, \u001b[38;5;124m\"\u001b[39m\u001b[38;5;124m25\u001b[39m\u001b[38;5;124m\"\u001b[39m, \u001b[38;5;241m1000\u001b[39m)\n",
      "Cell \u001b[0;32mIn[5], line 5\u001b[0m, in \u001b[0;36mcreate_account\u001b[0;34m(username, age, balance)\u001b[0m\n\u001b[1;32m      3\u001b[0m     \u001b[38;5;28;01mraise\u001b[39;00m \u001b[38;5;167;01mTypeError\u001b[39;00m(\u001b[38;5;124m\"\u001b[39m\u001b[38;5;124mUsername must be a string\u001b[39m\u001b[38;5;124m\"\u001b[39m)\n\u001b[1;32m      4\u001b[0m \u001b[38;5;28;01mif\u001b[39;00m \u001b[38;5;129;01mnot\u001b[39;00m \u001b[38;5;28misinstance\u001b[39m(age, \u001b[38;5;28mint\u001b[39m):\n\u001b[0;32m----> 5\u001b[0m     \u001b[38;5;28;01mraise\u001b[39;00m \u001b[38;5;167;01mTypeError\u001b[39;00m(\u001b[38;5;124m\"\u001b[39m\u001b[38;5;124mAge must be an integer\u001b[39m\u001b[38;5;124m\"\u001b[39m)\n\u001b[1;32m      6\u001b[0m \u001b[38;5;28;01mif\u001b[39;00m \u001b[38;5;129;01mnot\u001b[39;00m \u001b[38;5;28misinstance\u001b[39m(balance, \u001b[38;5;28mfloat\u001b[39m):\n\u001b[1;32m      7\u001b[0m     \u001b[38;5;28;01mraise\u001b[39;00m \u001b[38;5;167;01mTypeError\u001b[39;00m(\u001b[38;5;124m\"\u001b[39m\u001b[38;5;124mBalance must be a float\u001b[39m\u001b[38;5;124m\"\u001b[39m)\n",
      "\u001b[0;31mTypeError\u001b[0m: Age must be an integer"
     ]
    }
   ],
   "source": [
    "create_account(\"Fahad\", \"25\", 1000)\n"
   ]
  },
  {
   "cell_type": "code",
   "execution_count": 8,
   "id": "5e1a672a-2d8b-4f4e-9deb-b8c104b1a6de",
   "metadata": {},
   "outputs": [],
   "source": [
    "\n",
    "#Default paramerters func\n",
    "def sum(a=10,b=20):# Default parameters\n",
    "    x=a+b\n",
    "    return x\n",
    "    "
   ]
  },
  {
   "cell_type": "code",
   "execution_count": 9,
   "id": "48934e4d-05d6-497c-b25b-fc7b0caf7e93",
   "metadata": {},
   "outputs": [
    {
     "data": {
      "text/plain": [
       "30"
      ]
     },
     "execution_count": 9,
     "metadata": {},
     "output_type": "execute_result"
    }
   ],
   "source": [
    "sum()"
   ]
  },
  {
   "cell_type": "code",
   "execution_count": 10,
   "id": "ab34854d-6fb4-4a61-ade7-87a3da0c1e85",
   "metadata": {},
   "outputs": [
    {
     "data": {
      "text/plain": [
       "5"
      ]
     },
     "execution_count": 10,
     "metadata": {},
     "output_type": "execute_result"
    }
   ],
   "source": [
    "sum(3,2)"
   ]
  },
  {
   "cell_type": "code",
   "execution_count": 14,
   "id": "6ae04e10-6026-416a-b1bf-b30c39586059",
   "metadata": {},
   "outputs": [],
   "source": [
    "##Postitional Arguments\n",
    "def sum2(a,b): ## \n",
    "    print('a=',a)\n",
    "    print('b=',b)\n",
    "    "
   ]
  },
  {
   "cell_type": "code",
   "execution_count": 15,
   "id": "96f35211-9fb4-4161-9792-fc4aeca4687b",
   "metadata": {},
   "outputs": [
    {
     "name": "stdout",
     "output_type": "stream",
     "text": [
      "a= 22\n",
      "b= 24\n"
     ]
    }
   ],
   "source": [
    "sum2(22,24)"
   ]
  },
  {
   "cell_type": "code",
   "execution_count": 16,
   "id": "a31b2a0e-3197-4158-b485-c527a6807f8c",
   "metadata": {},
   "outputs": [
    {
     "name": "stdout",
     "output_type": "stream",
     "text": [
      "a= 10\n",
      "b= 33\n"
     ]
    }
   ],
   "source": [
    "sum2(a=10,b=33) #Keyword Arguments"
   ]
  },
  {
   "cell_type": "code",
   "execution_count": 20,
   "id": "79b5409c-3cb3-429d-8168-125ec09d3276",
   "metadata": {},
   "outputs": [],
   "source": [
    "#astrick func sum all arugements\n",
    "def sum(*a ): ## return tuple if we give * before oprand\n",
    "    summation=0\n",
    "    for i in a:\n",
    "        summation=summation+a\n",
    "    return summation\n",
    "\n"
   ]
  },
  {
   "cell_type": "code",
   "execution_count": 21,
   "id": "654d3966-1797-442d-b02b-4a0164cb0525",
   "metadata": {},
   "outputs": [
    {
     "ename": "TypeError",
     "evalue": "unsupported operand type(s) for +: 'int' and 'tuple'",
     "output_type": "error",
     "traceback": [
      "\u001b[0;31m---------------------------------------------------------------------------\u001b[0m",
      "\u001b[0;31mTypeError\u001b[0m                                 Traceback (most recent call last)",
      "Cell \u001b[0;32mIn[21], line 1\u001b[0m\n\u001b[0;32m----> 1\u001b[0m \u001b[38;5;28msum\u001b[39m(\u001b[38;5;241m10\u001b[39m,\u001b[38;5;241m45\u001b[39m)\n",
      "Cell \u001b[0;32mIn[20], line 5\u001b[0m, in \u001b[0;36msum\u001b[0;34m(*a)\u001b[0m\n\u001b[1;32m      3\u001b[0m summation\u001b[38;5;241m=\u001b[39m\u001b[38;5;241m0\u001b[39m\n\u001b[1;32m      4\u001b[0m \u001b[38;5;28;01mfor\u001b[39;00m i \u001b[38;5;129;01min\u001b[39;00m a:\n\u001b[0;32m----> 5\u001b[0m     summation\u001b[38;5;241m=\u001b[39msummation\u001b[38;5;241m+\u001b[39ma\n\u001b[1;32m      6\u001b[0m \u001b[38;5;28;01mreturn\u001b[39;00m summation\n",
      "\u001b[0;31mTypeError\u001b[0m: unsupported operand type(s) for +: 'int' and 'tuple'"
     ]
    }
   ],
   "source": [
    "sum(10,45)"
   ]
  },
  {
   "cell_type": "code",
   "execution_count": 19,
   "id": "bd2079f5-de7a-4aa4-825c-dcab43de0c1e",
   "metadata": {},
   "outputs": [
    {
     "name": "stdout",
     "output_type": "stream",
     "text": [
      "(45, 66, 77, 88, 99)\n"
     ]
    }
   ],
   "source": [
    "sum(45,66,77,88,99)"
   ]
  },
  {
   "cell_type": "code",
   "execution_count": 22,
   "id": "d1ad52da-5ecc-439a-8614-b274cd2b6641",
   "metadata": {},
   "outputs": [],
   "source": [
    "##accept all ky lie func ma argu ky sat ** lgta han\n"
   ]
  },
  {
   "cell_type": "code",
   "execution_count": 34,
   "id": "66d4dab6-5ba5-45ac-a911-a044236bacfa",
   "metadata": {},
   "outputs": [],
   "source": [
    "#Recusive func\n",
    "def nam(a):\n",
    "    print('---------')\n",
    "    nam(a)"
   ]
  },
  {
   "cell_type": "code",
   "execution_count": 33,
   "id": "b2e768c8-7247-4e90-92d8-cfd0f43cb644",
   "metadata": {},
   "outputs": [
    {
     "ename": "TypeError",
     "evalue": "nam() missing 1 required positional argument: 'a'",
     "output_type": "error",
     "traceback": [
      "\u001b[0;31m---------------------------------------------------------------------------\u001b[0m",
      "\u001b[0;31mTypeError\u001b[0m                                 Traceback (most recent call last)",
      "Cell \u001b[0;32mIn[33], line 1\u001b[0m\n\u001b[0;32m----> 1\u001b[0m nam()\n",
      "\u001b[0;31mTypeError\u001b[0m: nam() missing 1 required positional argument: 'a'"
     ]
    }
   ],
   "source": [
    "nam()"
   ]
  },
  {
   "cell_type": "code",
   "execution_count": null,
   "id": "a6673c7a-2988-4d1f-869c-c4d53d7de7d2",
   "metadata": {},
   "outputs": [],
   "source": []
  }
 ],
 "metadata": {
  "kernelspec": {
   "display_name": "Python [conda env:base] *",
   "language": "python",
   "name": "conda-base-py"
  },
  "language_info": {
   "codemirror_mode": {
    "name": "ipython",
    "version": 3
   },
   "file_extension": ".py",
   "mimetype": "text/x-python",
   "name": "python",
   "nbconvert_exporter": "python",
   "pygments_lexer": "ipython3",
   "version": "3.13.5"
  }
 },
 "nbformat": 4,
 "nbformat_minor": 5
}
