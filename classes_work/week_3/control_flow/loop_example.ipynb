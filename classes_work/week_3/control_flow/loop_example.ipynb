{
 "cells": [
  {
   "cell_type": "code",
   "execution_count": 14,
   "id": "2386b2af-9043-4eae-a378-4ff7e37fb112",
   "metadata": {},
   "outputs": [
    {
     "name": "stdout",
     "output_type": "stream",
     "text": [
      "Hello Fahad\n",
      "0- Fahad\n",
      "1- Fahad\n",
      "2- Fahad\n",
      "3- Fahad\n",
      "4- Fahad\n",
      "5- Fahad\n",
      "6- Fahad\n",
      "7- Fahad\n",
      "8- Fahad\n",
      "9- Fahad\n"
     ]
    }
   ],
   "source": [
    "#for loop iterate krna ky lie when we know how many time we iterate loop like 20 dafa chalana 20 dafa chalna ha\n",
    "# While loop  kab lgan ha jab humyn unknow identificaiton ho hamra loop kitni dafa chaly ga\n",
    "\n",
    "print(\"Hello Fahad\") # i want to print 10 time  \n",
    "\n",
    "n=1 # define limit of iteration\n",
    "\n",
    "for n in range(10):     # range fun to \n",
    "    print(f\"{n}- Fahad\")\n",
    "\n",
    "\n",
    "\n",
    " \n"
   ]
  },
  {
   "cell_type": "code",
   "execution_count": 21,
   "id": "824166b1-fcc8-4283-a78e-05cdbbf6dab2",
   "metadata": {},
   "outputs": [
    {
     "name": "stdout",
     "output_type": "stream",
     "text": [
      "11  11 Fahad\n",
      "13  13 Fahad\n",
      "15  15 Fahad\n",
      "17  17 Fahad\n",
      "19  19 Fahad\n"
     ]
    }
   ],
   "source": [
    "#While\n",
    "n=11 # define limit of iteration\n",
    "\n",
    "while n <=20:\n",
    "    print(n,f' {n} Fahad')\n",
    "    n=n+2               #if dont increment in i it will though \n",
    "\n",
    "while True\n",
    "# ------ system loop\n",
    "#while defaulter in student_list:\n",
    "#            capture(footage)\n",
    "#            callToAlarm()\n",
    "#come out side loop\n",
    "# -------system loop"
   ]
  },
  {
   "cell_type": "code",
   "execution_count": 20,
   "id": "52e37a82-1f26-4727-a570-59948f8a8f6f",
   "metadata": {},
   "outputs": [
    {
     "data": {
      "text/plain": [
       "range(0, 20)"
      ]
     },
     "execution_count": 20,
     "metadata": {},
     "output_type": "execute_result"
    }
   ],
   "source": [
    "\n",
    "\n",
    "#range (start,end,jump)   #strat with 0 auto, end * lazmi mention krna hota ha rather then error dy ga ,,step == jump ky lie skipper ho ga\n",
    "\n",
    "list(range(10)) #generate range of 10 list   [0, 1, 2, 3, 4, 5, 6, 7, 8, 9]\n",
    "range(20) ##range(0, 20)\n"
   ]
  },
  {
   "cell_type": "code",
   "execution_count": 22,
   "id": "654f797b-a81a-4178-9859-292ddbe1ed72",
   "metadata": {},
   "outputs": [
    {
     "name": "stdout",
     "output_type": "stream",
     "text": [
      "Need to decoration-- apple\n",
      "Need to decoration-- banana\n",
      "Need to decoration-- cheery\n"
     ]
    }
   ],
   "source": [
    "# I want to decorate list of fruits\n",
    "fruits=['apple','banana','cheery']\n",
    "for i in fruits:\n",
    "    print(f'Need to decoration-- {i}')"
   ]
  },
  {
   "cell_type": "code",
   "execution_count": 42,
   "id": "bf794000-ffe6-4662-9404-c91ff9f2a4db",
   "metadata": {},
   "outputs": [
    {
     "name": "stdout",
     "output_type": "stream",
     "text": [
      "keys A\n",
      "keys B\n",
      "Keys from func A\n",
      "Keys from func B\n",
      "simple values:  apple\n",
      "simple values:  banana\n",
      "values : apple\n",
      "values : banana\n",
      "All Item in dict:  ('A', 'apple')\n",
      "All Item in dict:  ('B', 'banana')\n"
     ]
    }
   ],
   "source": [
    "#for loop on dict\n",
    "fruit={\"A\":'apple','B':'banana'}\n",
    "\n",
    "## get only keys\n",
    "for i in fruit:\n",
    "       print(f'keys {i}')\n",
    "\n",
    "\n",
    "## with func key\n",
    "for i in fruit.keys():\n",
    "    print(f'Keys from func {i}')\n",
    "\n",
    "\n",
    "##simple get values\n",
    "for i in fruit:\n",
    "    print('simple values: ',fruit[i])\n",
    "\n",
    "## values form func\n",
    "for i in fruit.values():\n",
    "    print(f'values : {i}')\n",
    "    \n",
    "\n",
    "## get all  with func item \n",
    "for i in fruit.items():\n",
    "    print('All Item in dict: ',i)\n"
   ]
  },
  {
   "cell_type": "code",
   "execution_count": null,
   "id": "a8dc5df4-32b8-443f-b973-291e7b83281e",
   "metadata": {},
   "outputs": [],
   "source": [
    "#Iterators /Generator "
   ]
  }
 ],
 "metadata": {
  "kernelspec": {
   "display_name": "Python [conda env:base] *",
   "language": "python",
   "name": "conda-base-py"
  },
  "language_info": {
   "codemirror_mode": {
    "name": "ipython",
    "version": 3
   },
   "file_extension": ".py",
   "mimetype": "text/x-python",
   "name": "python",
   "nbconvert_exporter": "python",
   "pygments_lexer": "ipython3",
   "version": "3.13.5"
  }
 },
 "nbformat": 4,
 "nbformat_minor": 5
}
