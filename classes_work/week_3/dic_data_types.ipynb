{
 "cells": [
  {
   "cell_type": "code",
   "execution_count": 2,
   "id": "93e51f7e-3473-43d4-bf6a-700d2c993acf",
   "metadata": {},
   "outputs": [
    {
     "name": "stdout",
     "output_type": "stream",
     "text": [
      "Dictorary\n"
     ]
    }
   ],
   "source": [
    "print(\"Dictorary\")\n",
    "#key value pare"
   ]
  },
  {
   "cell_type": "code",
   "execution_count": 8,
   "id": "2fbb3572-d91d-403b-bb20-b47b3b1337eb",
   "metadata": {},
   "outputs": [
    {
     "name": "stdout",
     "output_type": "stream",
     "text": [
      "apple\n"
     ]
    }
   ],
   "source": [
    "fruit_dict_name={'fruit name':'apple'}\n",
    "print(fruit_dict_name['fruit name'])"
   ]
  },
  {
   "cell_type": "code",
   "execution_count": 12,
   "id": "9d3092b3-d0f5-4344-8e58-47999503aefb",
   "metadata": {},
   "outputs": [
    {
     "name": "stdout",
     "output_type": "stream",
     "text": [
      "{'name': ['fahad', 'hassan', 'Raza'], 'Roll No': [22, 25, 27, 29, 255]}\n"
     ]
    }
   ],
   "source": [
    "#we can store multi type of data store in dict\n",
    "student={'name':['fahad','hassan','Raza'],'Roll No':[22,25,27,29,255]}\n",
    "print(student)"
   ]
  },
  {
   "cell_type": "code",
   "execution_count": 27,
   "id": "4afee22e-56a3-4a37-b669-f95ac5dd5ab9",
   "metadata": {},
   "outputs": [
    {
     "name": "stdout",
     "output_type": "stream",
     "text": [
      " Tuple :  ('fahad', 'irfan', 'Kiran')\n",
      "{'fahad': (27, 25, 27), 'irfan': (27, 25, 27), 'Kiran': (27, 25, 27)}\n",
      "pop End key value : (27, 25, 27)\n"
     ]
    },
    {
     "data": {
      "text/plain": [
       "('Kiran', (27, 25, 27))"
      ]
     },
     "execution_count": 27,
     "metadata": {},
     "output_type": "execute_result"
    }
   ],
   "source": [
    "#convert  tuple to dict\n",
    "name_sequence=(\"fahad\",\"irfan\",\"Kiran\")\n",
    "age_sequence=(27,25,27)\n",
    "print(\" Tuple : \", name_sequence)\n",
    "\n",
    "new_dict=dict.fromkeys(name_sequence,age_sequence)\n",
    "print(new_dict)\n",
    "\n",
    "#accessigning values from keys\n",
    "new_dict.values()\n",
    "\n",
    "#accessing keys\n",
    "new_dict.keys()\n",
    "\n",
    "\n",
    "#simple POP  keys kay agianst value niklay ga\n",
    "print(f\"pop exact  key value : {new_dict.pop('fahad')}\")\n",
    "\n",
    "#Arbitrary pop end wala elemnet nikaal dy ga\n",
    "new_dict.popitem()\n"
   ]
  },
  {
   "cell_type": "code",
   "execution_count": null,
   "id": "9623e924-11b8-4c99-bd29-4a1aa2811226",
   "metadata": {},
   "outputs": [],
   "source": []
  },
  {
   "cell_type": "code",
   "execution_count": null,
   "id": "1b6610a5-1963-48a6-9e45-4b9f1d1cbff1",
   "metadata": {},
   "outputs": [],
   "source": []
  }
 ],
 "metadata": {
  "kernelspec": {
   "display_name": "Python [conda env:base] *",
   "language": "python",
   "name": "conda-base-py"
  },
  "language_info": {
   "codemirror_mode": {
    "name": "ipython",
    "version": 3
   },
   "file_extension": ".py",
   "mimetype": "text/x-python",
   "name": "python",
   "nbconvert_exporter": "python",
   "pygments_lexer": "ipython3",
   "version": "3.13.5"
  }
 },
 "nbformat": 4,
 "nbformat_minor": 5
}
