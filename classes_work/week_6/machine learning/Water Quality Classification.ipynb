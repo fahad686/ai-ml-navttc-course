{
 "cells": [
  {
   "cell_type": "code",
   "execution_count": 3,
   "id": "9a6dc215-6743-4137-95be-acf755c33c92",
   "metadata": {},
   "outputs": [],
   "source": [
    "\n",
    "\n",
    "import numpy as np\n",
    "import pandas as pd\n",
    "\n"
   ]
  },
  {
   "cell_type": "code",
   "execution_count": 5,
   "id": "46dda015-b58e-4260-856b-38ecb62e8a08",
   "metadata": {},
   "outputs": [],
   "source": [
    "df_water=pd.read_csv('water_potability.csv')"
   ]
  },
  {
   "cell_type": "code",
   "execution_count": 6,
   "id": "69fb3fe9-5c60-4bcc-a70a-03dcb8d1cfc1",
   "metadata": {},
   "outputs": [
    {
     "name": "stdout",
     "output_type": "stream",
     "text": [
      "sum of all null values\n"
     ]
    },
    {
     "data": {
      "text/plain": [
       "ph                 491\n",
       "Hardness             0\n",
       "Solids               0\n",
       "Chloramines          0\n",
       "Sulfate            781\n",
       "Conductivity         0\n",
       "Organic_carbon       0\n",
       "Trihalomethanes    162\n",
       "Turbidity            0\n",
       "Potability           0\n",
       "dtype: int64"
      ]
     },
     "execution_count": 6,
     "metadata": {},
     "output_type": "execute_result"
    }
   ],
   "source": [
    "print(\"sum of all null values\")\n",
    "df_water.isna().sum()"
   ]
  },
  {
   "cell_type": "code",
   "execution_count": 8,
   "id": "4a0fba78-0016-48ad-b362-199570b6cbbe",
   "metadata": {},
   "outputs": [
    {
     "name": "stdout",
     "output_type": "stream",
     "text": [
      "sum of values after  null\n",
      "            ph    Hardness        Solids  Chloramines     Sulfate  \\\n",
      "0     7.080795  204.890455  20791.318981     7.300212  368.516441   \n",
      "1     3.716080  129.422921  18630.057858     6.635246  333.775777   \n",
      "2     8.099124  224.236259  19909.541732     9.275884  333.775777   \n",
      "3     8.316766  214.373394  22018.417441     8.059332  356.886136   \n",
      "4     9.092223  181.101509  17978.986339     6.546600  310.135738   \n",
      "...        ...         ...           ...          ...         ...   \n",
      "3271  4.668102  193.681735  47580.991603     7.166639  359.948574   \n",
      "3272  7.808856  193.553212  17329.802160     8.061362  333.775777   \n",
      "3273  9.419510  175.762646  33155.578218     7.350233  333.775777   \n",
      "3274  5.126763  230.603758  11983.869376     6.303357  333.775777   \n",
      "3275  7.874671  195.102299  17404.177061     7.509306  333.775777   \n",
      "\n",
      "      Conductivity  Organic_carbon  Trihalomethanes  Turbidity  Potability  \n",
      "0       564.308654       10.379783        86.990970   2.963135           0  \n",
      "1       592.885359       15.180013        56.329076   4.500656           0  \n",
      "2       418.606213       16.868637        66.420093   3.055934           0  \n",
      "3       363.266516       18.436524       100.341674   4.628771           0  \n",
      "4       398.410813       11.558279        31.997993   4.075075           0  \n",
      "...            ...             ...              ...        ...         ...  \n",
      "3271    526.424171       13.894419        66.687695   4.435821           1  \n",
      "3272    392.449580       19.903225        66.396293   2.798243           1  \n",
      "3273    432.044783       11.039070        69.845400   3.298875           1  \n",
      "3274    402.883113       11.168946        77.488213   4.708658           1  \n",
      "3275    327.459760       16.140368        78.698446   2.309149           1  \n",
      "\n",
      "[3276 rows x 10 columns]\n"
     ]
    }
   ],
   "source": [
    "#after cleaning \n",
    "print (\"sum of values after  null\")\n",
    "df_clean=df_water.fillna(df_water.mean())\n",
    "print(df_clean)"
   ]
  },
  {
   "cell_type": "code",
   "execution_count": null,
   "id": "bc3305fc-1f13-4fe6-9a02-0fdc8df5ae7c",
   "metadata": {},
   "outputs": [],
   "source": []
  }
 ],
 "metadata": {
  "kernelspec": {
   "display_name": "Python 3 (ipykernel)",
   "language": "python",
   "name": "python3"
  },
  "language_info": {
   "codemirror_mode": {
    "name": "ipython",
    "version": 3
   },
   "file_extension": ".py",
   "mimetype": "text/x-python",
   "name": "python",
   "nbconvert_exporter": "python",
   "pygments_lexer": "ipython3",
   "version": "3.13.7"
  }
 },
 "nbformat": 4,
 "nbformat_minor": 5
}
