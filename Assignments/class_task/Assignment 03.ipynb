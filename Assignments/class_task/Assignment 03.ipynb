{
 "cells": [
  {
   "cell_type": "code",
   "execution_count": 1,
   "id": "a029fb0b-f4b9-4506-baf3-dc937533b3b8",
   "metadata": {},
   "outputs": [],
   "source": [
    "# In this assignment, you’ll practice the following Python fundamentals:\n",
    "\n",
    "# Variables and basic data types (strings, integers, floats).\n",
    "# Getting user input and type casting.\n",
    "# String methods (e.g., upper(), lower(), strip(), replace(), etc.).\n",
    "# Basic arithmetic with numbers.\n",
    "# List creation, indexing, and methods (append(), remove(), slicing, etc.).\n",
    "# The assignment is broken into several parts. Complete the core tasks first (Parts 1–3), and then try the extra challenges (Part 4) if you want to go deeper.\n",
    "# Part 1: Working with Variables, Input, and Strings\n",
    "# Prompt for user input\n",
    "\n",
    "# Ask the user to enter their full name and store it in a variable named full_name.\n",
    "# Print a greeting message, for example:\n",
    "# Hello, <full_name>! Welcome to the Python assignment.\n",
    "# String methods\n",
    "\n",
    "# Print the user’s name in all uppercase letters.\n",
    "# Print the user’s name in all lowercase letters.\n",
    "# Print the length of the user’s name (number of characters).\n",
    "# Replace all the spaces in the user’s name with hyphens (-), and print the result.\n",
    "# Bonus: Trim any leading or trailing spaces (if any) from the user’s name using strip().\n",
    "# Type casting and numeric operations\n",
    "\n",
    "# Ask the user to enter their birth year (as input). Convert that input to an integer.\n",
    "# Calculate the user’s approximate age by subtracting the birth year from the current year. Print the result in a sentence.\n",
    "# Example output:\n",
    "# You are approximately 25 years old.\n",
    "# Example Output (Walkthrough)\n",
    "# Enter your full name:  John Doe\n",
    "# Hello, John Doe! Welcome to the Python assignment.\n",
    "# Your name in uppercase: JOHN DOE\n",
    "# Your name in lowercase: john doe\n",
    "# Length of your name: 8\n",
    "# Name with hyphens: John-Doe\n",
    "# Current year is 2024, so you are approximately 24 years old.\n",
    "\n"
   ]
  },
  {
   "cell_type": "code",
   "execution_count": 5,
   "id": "50b1526f-6522-41c9-ae73-73795f73b089",
   "metadata": {},
   "outputs": [
    {
     "name": "stdin",
     "output_type": "stream",
     "text": [
      "Enter you full name: fahad ali hassan\n"
     ]
    },
    {
     "name": "stdout",
     "output_type": "stream",
     "text": [
      "Hello, Fahad Ali Hassan Welcome to the python assignment\n"
     ]
    }
   ],
   "source": [
    "# Ask the user to enter their full name and store it in a variable named full_name.\n",
    "full_name=input('Enter you full name:')\n",
    "print(f'Hello, {full_name.title()} Welcome to the python assignment') ## using title() method for string for make 1st cahar capitle"
   ]
  },
  {
   "cell_type": "code",
   "execution_count": 6,
   "id": "711c4525-122e-4c9f-8bc6-0489930f38e5",
   "metadata": {},
   "outputs": [
    {
     "name": "stdout",
     "output_type": "stream",
     "text": [
      "your name in uppercase:FAHAD ALI HASSAN\n"
     ]
    }
   ],
   "source": [
    "## Your name in uppercase: JOHN DOE\n",
    "print(f'your name in uppercase: {full_name.upper()}')"
   ]
  },
  {
   "cell_type": "code",
   "execution_count": 7,
   "id": "a16cdb3d-f2b6-4ac8-8f22-e4db50f75a13",
   "metadata": {},
   "outputs": [
    {
     "name": "stdout",
     "output_type": "stream",
     "text": [
      "Your name in lowercase: fahad ali hassan\n"
     ]
    }
   ],
   "source": [
    "# Print the user’s name in all lowercase letters.\n",
    "print(f'Your name in lowercase: {full_name.lower()}')\n"
   ]
  },
  {
   "cell_type": "code",
   "execution_count": 8,
   "id": "e363ae1c-bf20-48c9-90cd-9a4ce47084a5",
   "metadata": {},
   "outputs": [
    {
     "name": "stdout",
     "output_type": "stream",
     "text": [
      "Lenght of your name: 16\n"
     ]
    }
   ],
   "source": [
    "# Print the length of the user’s name (number of characters).\n",
    "print(f'Lenght of your name: {len(full_name)}')"
   ]
  },
  {
   "cell_type": "code",
   "execution_count": 20,
   "id": "d5cc62e9-6515-4447-9ab4-ba3142023b4e",
   "metadata": {},
   "outputs": [
    {
     "name": "stdout",
     "output_type": "stream",
     "text": [
      "Name with hyphen: fahad-ali-hassan\n"
     ]
    }
   ],
   "source": [
    "# Replace all the spaces in the user’s name with hyphens (-), and print the result.\n",
    "##The .strip() method is used to remove extra spaces (or specified characters) from the beginning and end of a string.\n",
    "words=full_name.strip()\n",
    "\n",
    "\n",
    "# The .split() method breaks a string into a list, based on a separator (default is space \" \").\n",
    "\n",
    "\n",
    "print(f'Name with hyphen: {words.replace(' ','-')}') ## I am using replace() func for replacing char with in string word"
   ]
  },
  {
   "cell_type": "code",
   "execution_count": 23,
   "id": "b929f93a-6eb4-405c-a5cd-eda03f7b6e1a",
   "metadata": {},
   "outputs": [
    {
     "name": "stdin",
     "output_type": "stream",
     "text": [
      "Enter your birthday year 1998\n"
     ]
    },
    {
     "name": "stdout",
     "output_type": "stream",
     "text": [
      "Current year is 2025, so you are approximately 27 years old\n"
     ]
    }
   ],
   "source": [
    "## Ask the user to enter their birth year (as input). Convert that input to an integer.\n",
    "# Calculate the user’s approximate age by subtracting the birth year from the current year\n",
    "user_birthday_year=int(input('Enter your birthday year'))\n",
    "current_year=2025\n",
    "calcu_age=current_year-user_birthday_year\n",
    "print(f'Current year is {current_year}, so you are approximately {calcu_age} years old')"
   ]
  },
  {
   "cell_type": "code",
   "execution_count": null,
   "id": "aa442222-142e-4359-bd18-bd002c702104",
   "metadata": {},
   "outputs": [],
   "source": []
  }
 ],
 "metadata": {
  "kernelspec": {
   "display_name": "Python [conda env:base] *",
   "language": "python",
   "name": "conda-base-py"
  },
  "language_info": {
   "codemirror_mode": {
    "name": "ipython",
    "version": 3
   },
   "file_extension": ".py",
   "mimetype": "text/x-python",
   "name": "python",
   "nbconvert_exporter": "python",
   "pygments_lexer": "ipython3",
   "version": "3.13.5"
  }
 },
 "nbformat": 4,
 "nbformat_minor": 5
}
