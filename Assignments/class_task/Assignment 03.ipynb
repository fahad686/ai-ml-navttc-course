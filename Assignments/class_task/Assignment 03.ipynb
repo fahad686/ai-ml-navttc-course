{
 "cells": [
  {
   "cell_type": "code",
   "execution_count": 1,
   "id": "a029fb0b-f4b9-4506-baf3-dc937533b3b8",
   "metadata": {},
   "outputs": [],
   "source": [
    "# In this assignment, you’ll practice the following Python fundamentals:\n",
    "\n",
    "# Variables and basic data types (strings, integers, floats).\n",
    "# Getting user input and type casting.\n",
    "# String methods (e.g., upper(), lower(), strip(), replace(), etc.).\n",
    "# Basic arithmetic with numbers.\n",
    "# List creation, indexing, and methods (append(), remove(), slicing, etc.).\n",
    "# The assignment is broken into several parts. Complete the core tasks first (Parts 1–3), and then try the extra challenges (Part 4) if you want to go deeper.\n",
    "# Part 1: Working with Variables, Input, and Strings\n",
    "# Prompt for user input\n",
    "\n",
    "# Ask the user to enter their full name and store it in a variable named full_name.\n",
    "# Print a greeting message, for example:\n",
    "# Hello, <full_name>! Welcome to the Python assignment.\n",
    "# String methods\n",
    "\n",
    "# Print the user’s name in all uppercase letters.\n",
    "# Print the user’s name in all lowercase letters.\n",
    "# Print the length of the user’s name (number of characters).\n",
    "# Replace all the spaces in the user’s name with hyphens (-), and print the result.\n",
    "# Bonus: Trim any leading or trailing spaces (if any) from the user’s name using strip().\n",
    "# Type casting and numeric operations\n",
    "\n",
    "# Ask the user to enter their birth year (as input). Convert that input to an integer.\n",
    "# Calculate the user’s approximate age by subtracting the birth year from the current year. Print the result in a sentence.\n",
    "# Example output:\n",
    "# You are approximately 25 years old.\n",
    "# Example Output (Walkthrough)\n",
    "# Enter your full name:  John Doe\n",
    "# Hello, John Doe! Welcome to the Python assignment.\n",
    "# Your name in uppercase: JOHN DOE\n",
    "# Your name in lowercase: john doe\n",
    "# Length of your name: 8\n",
    "# Name with hyphens: John-Doe\n",
    "# Current year is 2024, so you are approximately 24 years old.\n",
    "\n"
   ]
  },
  {
   "cell_type": "code",
   "execution_count": 5,
   "id": "50b1526f-6522-41c9-ae73-73795f73b089",
   "metadata": {},
   "outputs": [
    {
     "name": "stdin",
     "output_type": "stream",
     "text": [
      "Enter you full name: fahad ali hassan\n"
     ]
    },
    {
     "name": "stdout",
     "output_type": "stream",
     "text": [
      "Hello, Fahad Ali Hassan Welcome to the python assignment\n"
     ]
    }
   ],
   "source": [
    "# Ask the user to enter their full name and store it in a variable named full_name.\n",
    "full_name=input('Enter you full name:')\n",
    "print(f'Hello, {full_name.title()} Welcome to the python assignment') ## using title() method for string for make 1st cahar capitle"
   ]
  },
  {
   "cell_type": "code",
   "execution_count": 6,
   "id": "711c4525-122e-4c9f-8bc6-0489930f38e5",
   "metadata": {},
   "outputs": [
    {
     "name": "stdout",
     "output_type": "stream",
     "text": [
      "your name in uppercase:FAHAD ALI HASSAN\n"
     ]
    }
   ],
   "source": [
    "## Your name in uppercase: JOHN DOE\n",
    "print(f'your name in uppercase: {full_name.upper()}')"
   ]
  },
  {
   "cell_type": "code",
   "execution_count": 7,
   "id": "a16cdb3d-f2b6-4ac8-8f22-e4db50f75a13",
   "metadata": {},
   "outputs": [
    {
     "name": "stdout",
     "output_type": "stream",
     "text": [
      "Your name in lowercase: fahad ali hassan\n"
     ]
    }
   ],
   "source": [
    "# Print the user’s name in all lowercase letters.\n",
    "print(f'Your name in lowercase: {full_name.lower()}')\n"
   ]
  },
  {
   "cell_type": "code",
   "execution_count": 8,
   "id": "e363ae1c-bf20-48c9-90cd-9a4ce47084a5",
   "metadata": {},
   "outputs": [
    {
     "name": "stdout",
     "output_type": "stream",
     "text": [
      "Lenght of your name: 16\n"
     ]
    }
   ],
   "source": [
    "# Print the length of the user’s name (number of characters).\n",
    "print(f'Lenght of your name: {len(full_name)}')"
   ]
  },
  {
   "cell_type": "code",
   "execution_count": 20,
   "id": "d5cc62e9-6515-4447-9ab4-ba3142023b4e",
   "metadata": {},
   "outputs": [
    {
     "name": "stdout",
     "output_type": "stream",
     "text": [
      "Name with hyphen: fahad-ali-hassan\n"
     ]
    }
   ],
   "source": [
    "# Replace all the spaces in the user’s name with hyphens (-), and print the result.\n",
    "##The .strip() method is used to remove extra spaces (or specified characters) from the beginning and end of a string.\n",
    "words=full_name.strip()\n",
    "\n",
    "\n",
    "# The .split() method breaks a string into a list, based on a separator (default is space \" \").\n",
    "\n",
    "\n",
    "print(f'Name with hyphen: {words.replace(' ','-')}') ## I am using replace() func for replacing char with in string word"
   ]
  },
  {
   "cell_type": "code",
   "execution_count": 23,
   "id": "b929f93a-6eb4-405c-a5cd-eda03f7b6e1a",
   "metadata": {},
   "outputs": [
    {
     "name": "stdin",
     "output_type": "stream",
     "text": [
      "Enter your birthday year 1998\n"
     ]
    },
    {
     "name": "stdout",
     "output_type": "stream",
     "text": [
      "Current year is 2025, so you are approximately 27 years old\n"
     ]
    }
   ],
   "source": [
    "## Ask the user to enter their birth year (as input). Convert that input to an integer.\n",
    "# Calculate the user’s approximate age by subtracting the birth year from the current year\n",
    "user_birthday_year=int(input('Enter your birthday year'))\n",
    "current_year=2025\n",
    "calcu_age=current_year-user_birthday_year\n",
    "print(f'Current year is {current_year}, so you are approximately {calcu_age} years old')"
   ]
  },
  {
   "cell_type": "code",
   "execution_count": 1,
   "id": "aa442222-142e-4359-bd18-bd002c702104",
   "metadata": {},
   "outputs": [],
   "source": [
    "#### Part 2\n"
   ]
  },
  {
   "cell_type": "code",
   "execution_count": 8,
   "id": "b11475d5-bfc2-4f9b-a3f2-c42022ac6698",
   "metadata": {},
   "outputs": [
    {
     "name": "stdin",
     "output_type": "stream",
     "text": [
      "Enter three of your favorite fruits (comma-separated):  apple,banana ,mango\n"
     ]
    },
    {
     "name": "stdout",
     "output_type": "stream",
     "text": [
      "Your list of fruits: ['apple', 'banana', 'mango']\n"
     ]
    }
   ],
   "source": [
    "# Step 1: Create a list from user input\n",
    "fruits = input(\"Enter three of your favorite fruits (comma-separated): \")\n",
    "# Splitting the input by comma and removing extra spaces using strip()\n",
    "fruit_list = [i.strip() for i in fruits.split(\",\")]\n",
    "\n",
    "\n",
    "# Print the list to verify\n",
    "print(\"Your list of fruits:\", fruit_list)"
   ]
  },
  {
   "cell_type": "code",
   "execution_count": 9,
   "id": "9b31c651-0907-4cc5-a766-4b378c87ea37",
   "metadata": {},
   "outputs": [
    {
     "name": "stdout",
     "output_type": "stream",
     "text": [
      "First fruit: apple\n"
     ]
    }
   ],
   "source": [
    "# Step 2: List indexing and slicing\n",
    "print(\"First fruit:\", fruit_list[0])   "
   ]
  },
  {
   "cell_type": "code",
   "execution_count": 10,
   "id": "b9935fd4-40ad-4d9f-831c-0c5b0dbef4f0",
   "metadata": {},
   "outputs": [
    {
     "name": "stdout",
     "output_type": "stream",
     "text": [
      "Last fruit: mango\n"
     ]
    }
   ],
   "source": [
    "print(\"Last fruit:\", fruit_list[-1])        # Last element\n"
   ]
  },
  {
   "cell_type": "code",
   "execution_count": 11,
   "id": "4cf7e386-e81d-47ce-a71b-e0b2e66dfdbb",
   "metadata": {},
   "outputs": [
    {
     "name": "stdout",
     "output_type": "stream",
     "text": [
      "Second fruit: banana\n"
     ]
    }
   ],
   "source": [
    "print(\"Second fruit:\", fruit_list[1])    # Second elemnt\n"
   ]
  },
  {
   "cell_type": "code",
   "execution_count": 12,
   "id": "0ab8fd32-bbad-4501-80fd-296047ffa691",
   "metadata": {},
   "outputs": [
    {
     "name": "stdout",
     "output_type": "stream",
     "text": [
      "First two fruits: ['apple', 'banana']\n"
     ]
    }
   ],
   "source": [
    "print(\"First two fruits:\", fruit_list[:2])  #using step"
   ]
  },
  {
   "cell_type": "code",
   "execution_count": 13,
   "id": "5f84f5be-c956-4e2a-ac87-a888d2bb7bf4",
   "metadata": {},
   "outputs": [
    {
     "name": "stdout",
     "output_type": "stream",
     "text": [
      "\n",
      "Adding a new fruit...\n",
      "Updated list: ['apple', 'banana', 'mango', 'strawberry']\n"
     ]
    }
   ],
   "source": [
    "# Step 3: List methods\n",
    "print(\"\\nAdding a new fruit...\")\n",
    "fruit_list.append(\"strawberry\")  # Add a new fruit\n",
    "print(\"Updated list:\", fruit_list)"
   ]
  },
  {
   "cell_type": "code",
   "execution_count": 14,
   "id": "78a4d18d-5220-40dd-ba40-2263455a71a4",
   "metadata": {},
   "outputs": [
    {
     "name": "stdout",
     "output_type": "stream",
     "text": [
      "\n",
      "Removing one fruit...\n",
      "Updated list after removal: ['apple', 'mango', 'strawberry']\n"
     ]
    }
   ],
   "source": [
    "print(\"\\nRemoving one fruit...\")\n",
    "\n",
    "fruit_list.remove(\"banana\")  # Removes \"banana\" (if it exists)\n",
    "print(\"Updated list after removal:\", fruit_list)"
   ]
  },
  {
   "cell_type": "code",
   "execution_count": 16,
   "id": "47cfa6a3-cdd0-4450-8eae-638e0ac030c1",
   "metadata": {},
   "outputs": [
    {
     "name": "stdout",
     "output_type": "stream",
     "text": [
      "Length of the list is now 3\n"
     ]
    }
   ],
   "source": [
    "# Print length of the list\n",
    "\n",
    "print(\"Length of the list is now\", len(fruit_list))"
   ]
  },
  {
   "cell_type": "code",
   "execution_count": 17,
   "id": "700a6b4f-3611-4d85-a5fb-eb4fa8b48af4",
   "metadata": {},
   "outputs": [],
   "source": [
    "# ###################Part 3 (Optional Challenge): Combining Concepts ##################\n",
    "# Part 3 (Optional Challenge): Combining Concepts\n",
    "# String & List Interaction\n",
    "\n",
    "# Create a new list from the letters of your full_name (excluding spaces).\n",
    "\n",
    "# Hint:\n",
    "\n",
    "# letters_list = list(full_name.replace(\" \", \"\"))\n",
    "# Print the first 3 letters and the last 3 letters of letters_list.\n",
    "\n",
    "# Manipulate and Reconstruct\n",
    "\n",
    "# Convert the first 3 letters of letters_list to uppercase, and the rest to lowercase.\n",
    "# Reconstruct the name from letters_list back into a string using \"\".join(...) and print it out.\n",
    "# Simple Arithmetic on a List of Numbers\n",
    "\n",
    "# Prompt the user to enter 5 numbers (e.g., \"10 20 30 40 50\") in one line, separated by spaces.\n",
    "# Convert each input into an integer and store all in a list called numbers_list.\n",
    "# Print the sum of the numbers, and the average (sum / length of the list).\n",
    "# Example Output (Walkthrough)\n",
    "# Creating a letters list from your full name...\n",
    "# First 3 letters: ['J', 'o', 'h']\n",
    "# Last 3 letters: ['D', 'o', 'e']\n",
    "# Reconstructing name with some modifications...\n",
    "# Modified name: JOHdoe\n",
    "# Enter 5 numbers (space-separated): 10 20 30 40 50\n",
    "# Sum of your numbers: 150\n",
    "# Average of your numbers: 30.0"
   ]
  },
  {
   "cell_type": "code",
   "execution_count": 22,
   "id": "9f5e9205-4e54-4bc3-aa95-a61753331e5a",
   "metadata": {},
   "outputs": [
    {
     "name": "stdin",
     "output_type": "stream",
     "text": [
      "Enter you full name.. fahad ali\n"
     ]
    },
    {
     "name": "stdout",
     "output_type": "stream",
     "text": [
      "['f', 'a', 'h', 'a', 'd', 'a', 'l', 'i']\n"
     ]
    }
   ],
   "source": [
    "full_name=input('Enter you full name..')\n",
    "\n",
    "# Create a list from the letters of the full name (excluding spaces)\n",
    "letters_list = list(full_name.replace(\" \", \"\"))\n",
    "print(letters_list)"
   ]
  },
  {
   "cell_type": "code",
   "execution_count": 24,
   "id": "badb3a72-b329-48c1-8cf4-577950164b43",
   "metadata": {},
   "outputs": [
    {
     "name": "stdout",
     "output_type": "stream",
     "text": [
      "\n",
      "Creating a letters list from your full name...\n",
      "First 3 letters: ['f', 'a', 'h']\n",
      "Last 3 letters: ['a', 'l', 'i']\n"
     ]
    }
   ],
   "source": [
    "\n",
    "print(\"\\nCreating a letters list from your full name...\")\n",
    "\n",
    "print(\"First 3 letters:\", letters_list[:3])   # First three letters\n",
    "\n",
    "print(\"Last 3 letters:\", letters_list[-3:])  # Last threee letters , it start with - beacuse it wrok with forward direction"
   ]
  },
  {
   "cell_type": "code",
   "execution_count": 32,
   "id": "ca0538c5-4eec-49d0-87f6-5ba71bc05083",
   "metadata": {},
   "outputs": [
    {
     "name": "stdout",
     "output_type": "stream",
     "text": [
      "['F', 'A', 'H', 'a', 'd', 'a', 'l', 'i']\n",
      "['F', 'A', 'H', 'a', 'd', 'a', 'l', 'i']\n",
      "['F', 'A', 'H', 'a', 'd', 'a', 'l', 'i']\n",
      "['F', 'A', 'H', 'a', 'd', 'a', 'l', 'i']\n",
      "['F', 'A', 'H', 'a', 'd', 'a', 'l', 'i']\n"
     ]
    }
   ],
   "source": [
    "# Convert first 3 letters to uppercase, rest to lowercase\n",
    "for i in range(len(letters_list)):\n",
    "    if i < 3:\n",
    "        letters_list[i] = letters_list[i].upper()\n",
    "    else:\n",
    "        letters_list[i] = letters_list[i].lower()\n",
    "\n",
    "\n",
    "        print(letters_list)\n",
    "        "
   ]
  },
  {
   "cell_type": "code",
   "execution_count": 34,
   "id": "f7469047-eac9-4bc2-ab9d-e50ea0ebe5b7",
   "metadata": {},
   "outputs": [
    {
     "name": "stdout",
     "output_type": "stream",
     "text": [
      "\n",
      "Reconstructing name with modifications.\n",
      "Modified name: FAHadali\n"
     ]
    }
   ],
   "source": [
    "# Reconstruct the modified name\n",
    "modified_name = \"\".join(letters_list) #join use for joining list charc\n",
    "print(\"\\nReconstructing name with modifications.\")\n",
    "print(\"Modified name:\", modified_name)"
   ]
  },
  {
   "cell_type": "code",
   "execution_count": 43,
   "id": "c098512c-b3a3-4543-b9e9-f784459f17df",
   "metadata": {},
   "outputs": [
    {
     "name": "stdin",
     "output_type": "stream",
     "text": [
      "\n",
      "Enter 5 numbers (space-separated):  1 2 3 4 5\n"
     ]
    },
    {
     "name": "stdout",
     "output_type": "stream",
     "text": [
      "Sum of your numbers: 15\n",
      "Average of your numbers: 3.0\n"
     ]
    }
   ],
   "source": [
    "# Prompt the user to enter 5 numbers separated by spaces\n",
    "import math\n",
    "numbers = input(\"\\nEnter 5 numbers (space-separated): \")\n",
    "\n",
    "# Convert each number to an integer and store them in a list\n",
    "numbers_list = [int(num) for num in numbers.split()]\n",
    "\n",
    "# Calculate sum and average\n",
    "total_sum = sum(numbers_list)\n",
    "average = total_sum / len(numbers_list)\n",
    "# Display results\n",
    "print(\"Sum of your numbers:\", total_sum)\n",
    "print(\"Average of your numbers:\", average)"
   ]
  },
  {
   "cell_type": "code",
   "execution_count": null,
   "id": "c1d924cb-e54a-4912-bb45-e6eeebe6d997",
   "metadata": {},
   "outputs": [],
   "source": []
  }
 ],
 "metadata": {
  "kernelspec": {
   "display_name": "Python [conda env:base] *",
   "language": "python",
   "name": "conda-base-py"
  },
  "language_info": {
   "codemirror_mode": {
    "name": "ipython",
    "version": 3
   },
   "file_extension": ".py",
   "mimetype": "text/x-python",
   "name": "python",
   "nbconvert_exporter": "python",
   "pygments_lexer": "ipython3",
   "version": "3.13.5"
  }
 },
 "nbformat": 4,
 "nbformat_minor": 5
}
