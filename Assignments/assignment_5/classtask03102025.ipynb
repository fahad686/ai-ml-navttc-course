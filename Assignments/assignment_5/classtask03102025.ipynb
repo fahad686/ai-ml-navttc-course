{
 "cells": [
  {
   "cell_type": "code",
   "execution_count": 10,
   "id": "4c2f3ee4-c037-4b61-bb87-4ded35b3f87b",
   "metadata": {},
   "outputs": [
    {
     "name": "stdout",
     "output_type": "stream",
     "text": [
      "5.0\n"
     ]
    }
   ],
   "source": [
    "import numpy as np\n",
    "mlist = [1,2,3,4,5,6,7,8,9]\n",
    "arr = np.array(mlist)\n",
    "print(np.average(mlist))"
   ]
  },
  {
   "cell_type": "code",
   "execution_count": 9,
   "id": "da940138-aae4-4354-8bb8-54c8b2656d21",
   "metadata": {},
   "outputs": [
    {
     "name": "stdout",
     "output_type": "stream",
     "text": [
      "45\n"
     ]
    }
   ],
   "source": [
    "print(np.sum(mlist))"
   ]
  },
  {
   "cell_type": "code",
   "execution_count": 37,
   "id": "67de6d11-d872-4c06-8ec7-63193d759123",
   "metadata": {},
   "outputs": [
    {
     "name": "stdout",
     "output_type": "stream",
     "text": [
      "6.666666666666667\n"
     ]
    }
   ],
   "source": [
    "print(np.var(mlist))"
   ]
  },
  {
   "cell_type": "code",
   "execution_count": 35,
   "id": "7355f1f0-9960-4ee9-9691-de849296bf48",
   "metadata": {},
   "outputs": [
    {
     "name": "stdout",
     "output_type": "stream",
     "text": [
      "9\n"
     ]
    }
   ],
   "source": [
    "print(np.max(mlist))"
   ]
  },
  {
   "cell_type": "code",
   "execution_count": 14,
   "id": "1ea35cfe-1373-458a-85c9-d10d7e7b74ca",
   "metadata": {},
   "outputs": [
    {
     "name": "stdout",
     "output_type": "stream",
     "text": [
      "1\n"
     ]
    }
   ],
   "source": [
    "print(np.min(mlist))"
   ]
  },
  {
   "cell_type": "code",
   "execution_count": 15,
   "id": "72f6c44a-70e5-4244-b968-cde81cff6cc9",
   "metadata": {},
   "outputs": [
    {
     "name": "stdout",
     "output_type": "stream",
     "text": [
      "5.0\n"
     ]
    }
   ],
   "source": [
    "print(np.median(mlist))"
   ]
  },
  {
   "cell_type": "code",
   "execution_count": 42,
   "id": "44dd1f48-f158-4e79-85e3-e33fb0ab833d",
   "metadata": {},
   "outputs": [
    {
     "name": "stdout",
     "output_type": "stream",
     "text": [
      "5.0\n"
     ]
    }
   ],
   "source": [
    "print(np.percentile(mlist,50))"
   ]
  },
  {
   "cell_type": "code",
   "execution_count": 29,
   "id": "b12ec79e-1886-4b78-8ba2-634c46f62877",
   "metadata": {},
   "outputs": [
    {
     "name": "stdout",
     "output_type": "stream",
     "text": [
      "2.581988897471611\n"
     ]
    }
   ],
   "source": [
    "print(np.std(mlist))"
   ]
  },
  {
   "cell_type": "code",
   "execution_count": 34,
   "id": "63b795d4-2af5-49ab-bfd0-4ad82bd0ae57",
   "metadata": {},
   "outputs": [
    {
     "name": "stdout",
     "output_type": "stream",
     "text": [
      " harmonic mean {3.1813718614111375}\n"
     ]
    }
   ],
   "source": [
    "def funhmean(arr):\n",
    "    n = len(arr)\n",
    "    reciprocal_sum = sum(1/x for x in arr)\n",
    "    return n / reciprocal_sum\n",
    "print (f' harmonic mean' , {funhmean(mlist)})"
   ]
  },
  {
   "cell_type": "code",
   "execution_count": 28,
   "id": "93b5a92c-9f60-46cc-bdf3-262e90bd6366",
   "metadata": {},
   "outputs": [
    {
     "data": {
      "text/plain": [
       "array([ 4,  9, 16])"
      ]
     },
     "execution_count": 28,
     "metadata": {},
     "output_type": "execute_result"
    }
   ],
   "source": [
    "arr1 = np.array([2,3,4])\n",
    "arr2 = np.array([2])\n",
    "arr3 = np.pow(arr1,arr2)\n",
    "arr3"
   ]
  },
  {
   "cell_type": "code",
   "execution_count": 2,
   "id": "bf9a39b8-2c55-46a3-aa70-89f73c8d9643",
   "metadata": {},
   "outputs": [],
   "source": [
    "import numpy as np"
   ]
  },
  {
   "cell_type": "code",
   "execution_count": 37,
   "id": "2d253ca7-8e23-4829-a254-3b7e87e9c6a0",
   "metadata": {},
   "outputs": [
    {
     "name": "stdin",
     "output_type": "stream",
     "text": [
      " how many inputs you want? (should be less than or equal to 10)  3\n",
      " give me numbers 1:  2\n",
      " give me numbers 2:  3\n",
      " give me numbers 3:  4\n"
     ]
    },
    {
     "name": "stdout",
     "output_type": "stream",
     "text": [
      "Users array is :  [2 3 4]\n",
      "Sum is :  9\n",
      "Average is :  3.0\n",
      "Variance is :  0.6666666666666666\n",
      "Max is :  4\n",
      "Median is :  3.0\n",
      "Min is :  2\n",
      "Percentile Q1 :  2.5\n",
      "Percentile Q2 :  3.0\n",
      "Percentile Q3 :  3.5\n",
      "Standard Deviation :  0.816496580927726\n",
      "Harmonic mean : 2.7692307692307696\n",
      "Power of 2 is :  [ 4  9 16]\n"
     ]
    }
   ],
   "source": [
    "import numpy as np\n",
    "\n",
    "newlist = []\n",
    "\n",
    "uinput= int(input(f' how many inputs you want? (should be less than or equal to 10) '))\n",
    "   \n",
    "if uinput > 10:\n",
    "        uinput = 10\n",
    "else:\n",
    "           pass\n",
    "       \n",
    "for i in range(uinput):\n",
    "    num = int(input(f' give me numbers {i+1}: '))\n",
    "    newlist.append(num)\n",
    "    arr=np.array(newlist)\n",
    "print(f'Users array is :  {arr}')\n",
    "print (\"Sum is : \" , np.sum(arr))\n",
    "print(\"Average is : \" , np.average(arr))\n",
    "print(\"Variance is : \" , np.var(arr))\n",
    "print(\"Max is : \", np.max(arr))\n",
    "print(\"Median is : \", np.median(arr))\n",
    "print(\"Min is : \", np.min(arr))\n",
    "print(\"Percentile Q1 : \" , np.percentile(arr,25))\n",
    "print(\"Percentile Q2 : \" , np.percentile(arr,50))\n",
    "print(\"Percentile Q3 : \" , np.percentile(arr,75))\n",
    "print(\"Standard Deviation : \", np.std(arr))\n",
    "\n",
    "def funhmean(arr):\n",
    "    n = len(arr)\n",
    "    reciprocal_sum = sum(1/x for x in arr)\n",
    "    return n / reciprocal_sum\n",
    "print (\"Harmonic mean :\" , (funhmean(arr)))\n",
    "\n",
    "arr2 = np.array([2])\n",
    "arr3 = np.pow(arr,arr2)\n",
    "print (\"Power of 2 is : \", arr3)"
   ]
  },
  {
   "cell_type": "code",
   "execution_count": 3,
   "id": "f937a700-35ea-448f-b440-b59c7bb34df4",
   "metadata": {},
   "outputs": [
    {
     "name": "stdout",
     "output_type": "stream",
     "text": [
      "1\n",
      "2\n",
      "3\n"
     ]
    }
   ],
   "source": [
    "a = 0\n",
    "while a<3:\n",
    "    a= a + 1\n",
    "    print(a)\n",
    "    "
   ]
  },
  {
   "cell_type": "code",
   "execution_count": null,
   "id": "92f23257-dcfb-47ff-b761-5bfcc45b8acd",
   "metadata": {},
   "outputs": [],
   "source": []
  }
 ],
 "metadata": {
  "kernelspec": {
   "display_name": "Python 3 (ipykernel)",
   "language": "python",
   "name": "python3"
  },
  "language_info": {
   "codemirror_mode": {
    "name": "ipython",
    "version": 3
   },
   "file_extension": ".py",
   "mimetype": "text/x-python",
   "name": "python",
   "nbconvert_exporter": "python",
   "pygments_lexer": "ipython3",
   "version": "3.13.7"
  }
 },
 "nbformat": 4,
 "nbformat_minor": 5
}
