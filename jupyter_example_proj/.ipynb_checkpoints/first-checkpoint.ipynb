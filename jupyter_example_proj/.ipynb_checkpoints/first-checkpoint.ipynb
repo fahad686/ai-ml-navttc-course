{
 "cells": [
  {
   "cell_type": "code",
   "execution_count": 8,
   "id": "f276f0f0-8360-4811-8aa4-6d4d4992f840",
   "metadata": {},
   "outputs": [
    {
     "name": "stdout",
     "output_type": "stream",
     "text": [
      "My name is Fahad\n"
     ]
    }
   ],
   "source": [
    "print('My name is Fahad')"
   ]
  },
  {
   "cell_type": "code",
   "execution_count": 25,
   "id": "1d1df5b4-5bab-404e-a7b5-3d6b1c2ac687",
   "metadata": {},
   "outputs": [
    {
     "name": "stdout",
     "output_type": "stream",
     "text": [
      "43\n",
      "43\n",
      "43\n",
      "HELLO\n",
      "s\n",
      "r\n"
     ]
    },
    {
     "data": {
      "text/plain": [
       "'a'"
      ]
     },
     "execution_count": 25,
     "metadata": {},
     "output_type": "execute_result"
    }
   ],
   "source": [
    "x=10\n",
    "y=33\n",
    "type(x)\n",
    "print(x+y)\n",
    "print(x+y)\n",
    "print(x+y)\n",
    "print(\"HELLO\")\n",
    "name='Asghar'\n",
    "#accessing character of string name\n",
    "print(name[1])\n",
    "#backward accesseing\n",
    "print(name[-1])\n",
    "name[-1]\n",
    "\n"
   ]
  },
  {
   "cell_type": "code",
   "execution_count": 9,
   "id": "476a611a-6786-4be8-b6a9-7f6e97d18daa",
   "metadata": {},
   "outputs": [
    {
     "name": "stdout",
     "output_type": "stream",
     "text": [
      "AGE\n"
     ]
    }
   ],
   "source": [
    "print(\"AGE\")"
   ]
  },
  {
   "cell_type": "code",
   "execution_count": 52,
   "id": "197f4986-c579-4375-b726-977e0f661c52",
   "metadata": {},
   "outputs": [
    {
     "data": {
      "text/plain": [
       "''"
      ]
     },
     "execution_count": 52,
     "metadata": {},
     "output_type": "execute_result"
    }
   ],
   "source": [
    "#Slicing\n",
    "name='Fahad Ali'\n",
    "name[0:5]\n",
    "\n",
    "#Skipping char 1 by default its jumps 1 Step parameter\n",
    "name[0:5:2]\n",
    "\n",
    "# end tk aya ga\n",
    "name[-4:]\n",
    "\n",
    "#Reverse dirction not allowd\n",
    "name[-1:-6]"
   ]
  },
  {
   "cell_type": "code",
   "execution_count": 67,
   "id": "1ba33ab6-9d0b-4984-b661-118335def2bf",
   "metadata": {},
   "outputs": [
    {
     "name": "stdout",
     "output_type": "stream",
     "text": [
      "Length of string... 9\n",
      "Fahad Ali\n"
     ]
    }
   ],
   "source": [
    "#Methods\n",
    "print('Length of string...',len(name))\n",
    "\n",
    "#upper func call only with string\n",
    "name.upper()\n",
    "\n",
    "#capitalize\n",
    "name.capitalize()\n",
    "\n",
    "print(name)"
   ]
  },
  {
   "cell_type": "code",
   "execution_count": 78,
   "id": "934e56a0-ecaf-4a2c-bbd0-2626528d1057",
   "metadata": {},
   "outputs": [
    {
     "data": {
      "text/plain": [
       "['F', 'h', 'd Ali']"
      ]
     },
     "execution_count": 78,
     "metadata": {},
     "output_type": "execute_result"
    }
   ],
   "source": [
    "#Sipliting\n",
    "name.split('a')"
   ]
  },
  {
   "cell_type": "code",
   "execution_count": 75,
   "id": "d92ffb76-74af-43ee-b78a-dbcd026a4b33",
   "metadata": {},
   "outputs": [
    {
     "data": {
      "text/plain": [
       "'Fahad Ali'"
      ]
     },
     "execution_count": 75,
     "metadata": {},
     "output_type": "execute_result"
    }
   ],
   "source": [
    "\n",
    "#joining pices of above sipliter\n",
    "words=name.split('a')\n",
    "'a'.join(words)"
   ]
  },
  {
   "cell_type": "code",
   "execution_count": null,
   "id": "d10e75da-1905-4114-89bb-57ed27095ce8",
   "metadata": {},
   "outputs": [],
   "source": []
  }
 ],
 "metadata": {
  "kernelspec": {
   "display_name": "Python 3 (ipykernel)",
   "language": "python",
   "name": "python3"
  },
  "language_info": {
   "codemirror_mode": {
    "name": "ipython",
    "version": 3
   },
   "file_extension": ".py",
   "mimetype": "text/x-python",
   "name": "python",
   "nbconvert_exporter": "python",
   "pygments_lexer": "ipython3",
   "version": "3.13.7"
  }
 },
 "nbformat": 4,
 "nbformat_minor": 5
}
