{
 "cells": [
  {
   "cell_type": "code",
   "execution_count": null,
   "id": "6b98c3a6-fbee-4474-8ca4-e8675cffa02b",
   "metadata": {},
   "outputs": [],
   "source": []
  }
 ],
 "metadata": {
  "kernelspec": {
   "display_name": "Python 3 (ipykernel)",
   "language": "python",
   "name": "python3"
  },
  "language_info": {
   "name": ""
  }
 },
 "nbformat": 4,
 "nbformat_minor": 5
}
