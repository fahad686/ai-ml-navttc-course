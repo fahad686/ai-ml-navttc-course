{
 "cells": [
  {
   "cell_type": "code",
   "execution_count": null,
   "id": "5f7f4cb0-f9b6-4243-955b-d4f5b934d1d6",
   "metadata": {},
   "outputs": [],
   "source": [
    "#convet celcious to fernheigt 32*9/5+ celcous\n",
    "c=input('Please enter celcius:')"
   ]
  },
  {
   "cell_type": "code",
   "execution_count": null,
   "id": "bd5d50d9-e783-46e5-9d29-96b16c94016c",
   "metadata": {},
   "outputs": [],
   "source": []
  },
  {
   "cell_type": "code",
   "execution_count": null,
   "id": "6b248e6e-b2d8-4ae1-b60f-d62525622537",
   "metadata": {},
   "outputs": [],
   "source": []
  }
 ],
 "metadata": {
  "kernelspec": {
   "display_name": "Python [conda env:base] *",
   "language": "python",
   "name": "conda-base-py"
  },
  "language_info": {
   "name": ""
  }
 },
 "nbformat": 4,
 "nbformat_minor": 5
}
