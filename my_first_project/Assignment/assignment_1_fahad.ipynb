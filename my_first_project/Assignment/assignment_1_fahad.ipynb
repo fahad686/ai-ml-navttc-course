{
 "cells": [
  {
   "cell_type": "code",
   "execution_count": 3,
   "id": "4bcf9670-67a3-497c-b88d-b64926ae495f",
   "metadata": {},
   "outputs": [
    {
     "name": "stdout",
     "output_type": "stream",
     "text": [
      "Hello, everyone! I am learning Python. 😄\n"
     ]
    }
   ],
   "source": [
    "#Task 1: Printing a Message\n",
    "#Write a Python program that prints the following message to the screen:\n",
    "print(\"Hello, everyone! I am learning Python. 😄\")"
   ]
  },
  {
   "cell_type": "code",
   "execution_count": 5,
   "id": "2dafc0f9-ab7f-40dc-bb43-410e7556cf55",
   "metadata": {},
   "outputs": [
    {
     "name": "stdout",
     "output_type": "stream",
     "text": [
      "Name:  Fahad\n",
      "Age:  26\n",
      "Favorit Animal:  Wolf\n"
     ]
    }
   ],
   "source": [
    "#Task 2: Declaring Variables\n",
    "# Create a program that does the following:\n",
    "\n",
    "# Declare variables to store:\n",
    "# Your name (as a string),\n",
    "# Your age (as an integer), and\n",
    "# Your favorite animal (as a string).\n",
    "# Use print statements to display these variables one by one.\n",
    "name='Fahad'\n",
    "age=26\n",
    "fav_anim='Wolf'\n",
    "print('Name: ',name)\n",
    "print('Age: ', age)\n",
    "print('Favorit Animal: ',fav_anim)\n"
   ]
  },
  {
   "cell_type": "code",
   "execution_count": 9,
   "id": "9e8c15b5-364f-4dba-a9a6-a03737a19113",
   "metadata": {},
   "outputs": [
    {
     "name": "stdout",
     "output_type": "stream",
     "text": [
      "My name is Fahad, I am 26 old, and I love Wolf!\n"
     ]
    }
   ],
   "source": [
    "#Task 3: Combining Variables in a Message\n",
    "# Use the variables from Task 2 to create a single sentence and print it.\n",
    "\n",
    "# Example Output:\n",
    "# # My name is Sarah, I am 12 years old, and I love dogs!\n",
    "\n",
    "print(f'My name is {name}, I am {age} old, and I love {fav_anim}!')"
   ]
  },
  {
   "cell_type": "code",
   "execution_count": 15,
   "id": "63337244-3143-4ce2-b7c3-3aa1f0713f48",
   "metadata": {},
   "outputs": [
    {
     "name": "stdout",
     "output_type": "stream",
     "text": [
      "Favorite Movie: War\n",
      "Birth Year: 2010\n",
      "Price of Snack: 1.5\n"
     ]
    }
   ],
   "source": [
    "# Task 4: Playing with Different Data Types\n",
    "# Write a program that demonstrates three different types of variables:\n",
    "\n",
    "# A string (e.g., your favorite movie),\n",
    "# An integer (e.g., your birth year), and\n",
    "# A float (e.g., the price of your favorite snack).\n",
    "# Steps:\n",
    "# Declare three variables, each with a different type.\n",
    "# Print each variable on a separate line.\n",
    "# Example Output:\n",
    "# Favorite Movie: Toy Story\n",
    "# Birth Year: 2010\n",
    "# Price of Snack: 1.5\n",
    "\n",
    "fav_movie='War'\n",
    "birthday=2010\n",
    "fav_snack=1.5\n",
    "print('Favorite Movie:',fav_movie)\n",
    "print('Birth Year:',birthday)\n",
    "print('Price of Snack:',fav_snack)"
   ]
  },
  {
   "cell_type": "code",
   "execution_count": null,
   "id": "a578a2d3-c43b-49fd-9c95-d044ddae56c9",
   "metadata": {},
   "outputs": [],
   "source": []
  }
 ],
 "metadata": {
  "kernelspec": {
   "display_name": "Python 3 (ipykernel)",
   "language": "python",
   "name": "python3"
  },
  "language_info": {
   "codemirror_mode": {
    "name": "ipython",
    "version": 3
   },
   "file_extension": ".py",
   "mimetype": "text/x-python",
   "name": "python",
   "nbconvert_exporter": "python",
   "pygments_lexer": "ipython3",
   "version": "3.13.5"
  }
 },
 "nbformat": 4,
 "nbformat_minor": 5
}
