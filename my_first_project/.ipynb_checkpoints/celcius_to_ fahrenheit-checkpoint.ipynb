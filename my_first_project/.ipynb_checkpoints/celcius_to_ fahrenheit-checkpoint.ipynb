{
 "cells": [
  {
   "cell_type": "code",
   "execution_count": null,
   "id": "5f7f4cb0-f9b6-4243-955b-d4f5b934d1d6",
   "metadata": {},
   "outputs": [],
   "source": [
    "#convet celcious to fernheigt 32*9/5+ celcous\n",
    "c=input('Please enter celcius:')"
   ]
  },
  {
   "cell_type": "code",
   "execution_count": null,
   "id": "bd5d50d9-e783-46e5-9d29-96b16c94016c",
   "metadata": {},
   "outputs": [],
   "source": []
  }
 ],
 "metadata": {
  "kernelspec": {
   "display_name": "Python 3 (ipykernel)",
   "language": "python",
   "name": "python3"
  },
  "language_info": {
   "name": ""
  }
 },
 "nbformat": 4,
 "nbformat_minor": 5
}
