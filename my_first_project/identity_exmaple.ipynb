{
 "cells": [
  {
   "cell_type": "code",
   "id": "c1a84630-81d8-4cc6-b016-1ca6adeb2b8d",
   "metadata": {
    "jupyter": {
     "is_executing": true
    }
   },
   "source": [
    "#is operator to check the memory location address and value ky lie == use krty han ur is memery address check krna ky lie ha\n",
    "x=10\n",
    "y=20\n",
    "print(\"check memory locaiotn:\",x is y)\n"
   ],
   "outputs": [],
   "execution_count": null
  },
  {
   "cell_type": "code",
   "execution_count": null,
   "id": "11aea264-19a8-4634-b0b5-51d764029beb",
   "metadata": {},
   "outputs": [],
   "source": [
    "print('Address of x: ', id(x))\n",
    "print('Address of y: ', id(y))"
   ]
  },
  {
   "cell_type": "code",
   "execution_count": null,
   "id": "bb0a09eb-e3e1-4891-84cd-8e2d6eac981c",
   "metadata": {},
   "outputs": [],
   "source": [
    "print(\"test\")\n"
   ]
  },
  {
   "metadata": {},
   "cell_type": "code",
   "outputs": [],
   "execution_count": null,
   "source": "",
   "id": "f24cf2820d7eecb9"
  }
 ],
 "metadata": {
  "kernelspec": {
   "display_name": "Python 3 (ipykernel)",
   "language": "python",
   "name": "python3"
  },
  "language_info": {
   "name": ""
  }
 },
 "nbformat": 4,
 "nbformat_minor": 5
}
